{
 "cells": [
  {
   "cell_type": "markdown",
   "metadata": {},
   "source": [
    "# Intrduction to NumPy\n",
    "\n",
    "\n",
    "#### 1. Import NumPy under the name np."
   ]
  },
  {
   "cell_type": "code",
   "execution_count": 1,
   "metadata": {},
   "outputs": [],
   "source": [
    "# your code here\n",
    "import numpy as np"
   ]
  },
  {
   "cell_type": "markdown",
   "metadata": {},
   "source": [
    "#### 2. Print your NumPy version."
   ]
  },
  {
   "cell_type": "code",
   "execution_count": 2,
   "metadata": {},
   "outputs": [
    {
     "name": "stdout",
     "output_type": "stream",
     "text": [
      "1.21.5\n"
     ]
    }
   ],
   "source": [
    "# your code here\n",
    "print(np.__version__)"
   ]
  },
  {
   "cell_type": "markdown",
   "metadata": {},
   "source": [
    "#### 3. Generate a 2x3x5 3-dimensional array with random values. Assign the array to variable *a*.\n",
    "**Challenge**: there are at least three easy ways that use numpy to generate random arrays. How many ways can you find?"
   ]
  },
  {
   "cell_type": "code",
   "execution_count": 3,
   "metadata": {},
   "outputs": [
    {
     "data": {
      "text/plain": [
       "array([[[86, 78],\n",
       "        [23, 19],\n",
       "        [ 1, 43],\n",
       "        [26, 76],\n",
       "        [13, 42],\n",
       "        [18, 25],\n",
       "        [58,  3],\n",
       "        [72, 18],\n",
       "        [58, 42],\n",
       "        [42, 15]],\n",
       "\n",
       "       [[77, 83],\n",
       "        [65,  5],\n",
       "        [ 1, 84],\n",
       "        [34, 99],\n",
       "        [54,  6],\n",
       "        [ 0, 47],\n",
       "        [96,  9],\n",
       "        [74, 64],\n",
       "        [ 0, 79],\n",
       "        [27, 23]],\n",
       "\n",
       "       [[17, 39],\n",
       "        [52, 13],\n",
       "        [47, 38],\n",
       "        [27,  7],\n",
       "        [ 8, 23],\n",
       "        [88, 28],\n",
       "        [43, 38],\n",
       "        [63, 41],\n",
       "        [59, 80],\n",
       "        [ 8, 54]],\n",
       "\n",
       "       [[62,  1],\n",
       "        [41, 37],\n",
       "        [10, 71],\n",
       "        [28, 99],\n",
       "        [15, 47],\n",
       "        [22, 71],\n",
       "        [78, 97],\n",
       "        [56, 42],\n",
       "        [61, 65],\n",
       "        [18, 41]],\n",
       "\n",
       "       [[13, 18],\n",
       "        [79, 40],\n",
       "        [ 1, 18],\n",
       "        [95, 97],\n",
       "        [85,  8],\n",
       "        [29, 39],\n",
       "        [84, 99],\n",
       "        [22, 53],\n",
       "        [57, 48],\n",
       "        [35, 72]],\n",
       "\n",
       "       [[94, 54],\n",
       "        [99, 76],\n",
       "        [ 9, 74],\n",
       "        [80, 27],\n",
       "        [56, 80],\n",
       "        [86, 37],\n",
       "        [42, 85],\n",
       "        [16,  2],\n",
       "        [31, 31],\n",
       "        [76, 49]],\n",
       "\n",
       "       [[59, 63],\n",
       "        [14, 67],\n",
       "        [64, 76],\n",
       "        [ 2, 68],\n",
       "        [45, 72],\n",
       "        [84,  3],\n",
       "        [85, 14],\n",
       "        [48, 51],\n",
       "        [ 5, 64],\n",
       "        [31, 66]],\n",
       "\n",
       "       [[98, 87],\n",
       "        [99, 40],\n",
       "        [21, 44],\n",
       "        [17,  2],\n",
       "        [68, 37],\n",
       "        [44,  7],\n",
       "        [79, 75],\n",
       "        [ 0, 29],\n",
       "        [49, 45],\n",
       "        [36,  6]],\n",
       "\n",
       "       [[21, 47],\n",
       "        [43, 86],\n",
       "        [60, 11],\n",
       "        [38, 67],\n",
       "        [26, 58],\n",
       "        [92, 48],\n",
       "        [70, 89],\n",
       "        [80, 28],\n",
       "        [ 5, 25],\n",
       "        [ 4, 70]],\n",
       "\n",
       "       [[32, 30],\n",
       "        [45, 14],\n",
       "        [96, 47],\n",
       "        [62, 16],\n",
       "        [ 8, 91],\n",
       "        [85, 21],\n",
       "        [72, 79],\n",
       "        [63, 97],\n",
       "        [96, 86],\n",
       "        [93, 27]],\n",
       "\n",
       "       [[73, 69],\n",
       "        [65, 59],\n",
       "        [44, 81],\n",
       "        [58, 11],\n",
       "        [38, 24],\n",
       "        [50, 22],\n",
       "        [92, 22],\n",
       "        [41, 49],\n",
       "        [37, 10],\n",
       "        [60, 44]],\n",
       "\n",
       "       [[ 8, 83],\n",
       "        [ 2, 28],\n",
       "        [74, 17],\n",
       "        [21, 21],\n",
       "        [22, 18],\n",
       "        [18, 35],\n",
       "        [28, 42],\n",
       "        [21, 49],\n",
       "        [22,  7],\n",
       "        [69, 27]],\n",
       "\n",
       "       [[61, 70],\n",
       "        [33, 31],\n",
       "        [74, 69],\n",
       "        [59, 55],\n",
       "        [59, 85],\n",
       "        [37, 24],\n",
       "        [79, 89],\n",
       "        [82, 11],\n",
       "        [95, 50],\n",
       "        [ 8, 50]],\n",
       "\n",
       "       [[88,  6],\n",
       "        [50, 50],\n",
       "        [56, 31],\n",
       "        [60, 58],\n",
       "        [15, 62],\n",
       "        [27, 92],\n",
       "        [81, 11],\n",
       "        [66, 47],\n",
       "        [37, 52],\n",
       "        [27, 48]],\n",
       "\n",
       "       [[55, 13],\n",
       "        [73,  4],\n",
       "        [25, 45],\n",
       "        [70, 32],\n",
       "        [16, 31],\n",
       "        [48, 94],\n",
       "        [97, 60],\n",
       "        [82, 82],\n",
       "        [46, 78],\n",
       "        [80, 29]],\n",
       "\n",
       "       [[47, 54],\n",
       "        [50, 13],\n",
       "        [16, 54],\n",
       "        [42, 24],\n",
       "        [33,  2],\n",
       "        [49, 84],\n",
       "        [66, 82],\n",
       "        [79, 19],\n",
       "        [ 9, 10],\n",
       "        [24,  4]],\n",
       "\n",
       "       [[37, 86],\n",
       "        [94, 27],\n",
       "        [30, 22],\n",
       "        [57,  8],\n",
       "        [14, 54],\n",
       "        [88, 31],\n",
       "        [19, 57],\n",
       "        [75, 66],\n",
       "        [21, 52],\n",
       "        [44, 45]],\n",
       "\n",
       "       [[28, 82],\n",
       "        [76, 75],\n",
       "        [76, 40],\n",
       "        [59,  9],\n",
       "        [41, 31],\n",
       "        [99, 52],\n",
       "        [91, 69],\n",
       "        [47, 25],\n",
       "        [54, 82],\n",
       "        [69, 98]],\n",
       "\n",
       "       [[87, 98],\n",
       "        [98, 56],\n",
       "        [ 2, 62],\n",
       "        [51, 48],\n",
       "        [83, 20],\n",
       "        [27, 54],\n",
       "        [39, 31],\n",
       "        [90, 79],\n",
       "        [79, 32],\n",
       "        [66, 40]],\n",
       "\n",
       "       [[75, 14],\n",
       "        [10, 98],\n",
       "        [39,  4],\n",
       "        [67, 64],\n",
       "        [31, 12],\n",
       "        [82, 49],\n",
       "        [98, 17],\n",
       "        [ 3, 61],\n",
       "        [10, 40],\n",
       "        [54, 17]],\n",
       "\n",
       "       [[96,  2],\n",
       "        [17, 27],\n",
       "        [45, 48],\n",
       "        [69, 89],\n",
       "        [39,  0],\n",
       "        [60, 29],\n",
       "        [ 0, 64],\n",
       "        [22, 29],\n",
       "        [14, 22],\n",
       "        [18, 61]],\n",
       "\n",
       "       [[53, 84],\n",
       "        [90, 54],\n",
       "        [ 3, 31],\n",
       "        [45, 45],\n",
       "        [42, 99],\n",
       "        [90, 82],\n",
       "        [64, 54],\n",
       "        [84, 35],\n",
       "        [88, 23],\n",
       "        [55,  4]],\n",
       "\n",
       "       [[55, 78],\n",
       "        [51,  4],\n",
       "        [97,  5],\n",
       "        [37, 16],\n",
       "        [41, 37],\n",
       "        [55,  6],\n",
       "        [28, 70],\n",
       "        [75,  1],\n",
       "        [95, 33],\n",
       "        [67, 20]],\n",
       "\n",
       "       [[39, 37],\n",
       "        [46,  7],\n",
       "        [ 2, 58],\n",
       "        [48, 15],\n",
       "        [ 6, 47],\n",
       "        [60, 59],\n",
       "        [78, 33],\n",
       "        [41,  8],\n",
       "        [29,  2],\n",
       "        [85, 85]],\n",
       "\n",
       "       [[10, 88],\n",
       "        [43, 73],\n",
       "        [53, 56],\n",
       "        [17,  4],\n",
       "        [67, 36],\n",
       "        [76, 94],\n",
       "        [98, 37],\n",
       "        [60, 77],\n",
       "        [30, 69],\n",
       "        [47, 59]],\n",
       "\n",
       "       [[23, 13],\n",
       "        [ 7, 67],\n",
       "        [72, 54],\n",
       "        [30, 20],\n",
       "        [41, 72],\n",
       "        [89,  4],\n",
       "        [33, 73],\n",
       "        [40, 49],\n",
       "        [22, 88],\n",
       "        [92, 98]],\n",
       "\n",
       "       [[51, 28],\n",
       "        [64, 85],\n",
       "        [53, 84],\n",
       "        [ 6, 81],\n",
       "        [51, 92],\n",
       "        [16, 17],\n",
       "        [60, 14],\n",
       "        [32, 26],\n",
       "        [53,  6],\n",
       "        [20, 52]],\n",
       "\n",
       "       [[71, 29],\n",
       "        [82, 98],\n",
       "        [33, 92],\n",
       "        [58,  1],\n",
       "        [98, 33],\n",
       "        [96, 44],\n",
       "        [ 8, 65],\n",
       "        [27, 75],\n",
       "        [37, 19],\n",
       "        [91, 52]],\n",
       "\n",
       "       [[42, 32],\n",
       "        [94, 23],\n",
       "        [80, 71],\n",
       "        [89, 18],\n",
       "        [70, 55],\n",
       "        [25, 64],\n",
       "        [57, 36],\n",
       "        [70, 40],\n",
       "        [53, 43],\n",
       "        [14, 29]],\n",
       "\n",
       "       [[52, 86],\n",
       "        [20, 45],\n",
       "        [71, 84],\n",
       "        [76, 86],\n",
       "        [41, 58],\n",
       "        [75, 29],\n",
       "        [65, 66],\n",
       "        [80, 34],\n",
       "        [30, 14],\n",
       "        [99,  2]]])"
      ]
     },
     "execution_count": 3,
     "metadata": {},
     "output_type": "execute_result"
    }
   ],
   "source": [
    "# Method 1\n",
    "a = np.random.randint(0, 100, size=(30, 10, 2))\n",
    "a"
   ]
  },
  {
   "cell_type": "code",
   "execution_count": 4,
   "metadata": {},
   "outputs": [
    {
     "data": {
      "text/plain": [
       "array([[[0.73011553, 0.40168078, 0.25959969, 0.90168516, 0.21702286],\n",
       "        [0.69544852, 0.75425298, 0.61657825, 0.38563671, 0.07706601],\n",
       "        [0.60203027, 0.4576768 , 0.72318969, 0.89101752, 0.40088472]],\n",
       "\n",
       "       [[0.8946848 , 0.83562469, 0.50786167, 0.55612462, 0.27134464],\n",
       "        [0.79449768, 0.08529337, 0.18809792, 0.35434629, 0.25523461],\n",
       "        [0.19208788, 0.04216799, 0.56923349, 0.81892591, 0.11617107]]])"
      ]
     },
     "execution_count": 4,
     "metadata": {},
     "output_type": "execute_result"
    }
   ],
   "source": [
    "# Method 2\n",
    "a = np.random.random((2,3,5))\n",
    "a"
   ]
  },
  {
   "cell_type": "code",
   "execution_count": 5,
   "metadata": {},
   "outputs": [
    {
     "data": {
      "text/plain": [
       "array([[[0.23264436, 0.22146875, 0.97216383, 0.36645908, 0.65625409],\n",
       "        [0.13896345, 0.33288225, 0.171618  , 0.07062614, 0.84527171],\n",
       "        [0.01312103, 0.22189045, 0.28680641, 0.86145528, 0.64521649]],\n",
       "\n",
       "       [[0.65939924, 0.58907297, 0.62199653, 0.35944146, 0.56451894],\n",
       "        [0.96925176, 0.40686761, 0.37137264, 0.38725256, 0.84635687],\n",
       "        [0.21747909, 0.22344552, 0.82046235, 0.63331852, 0.59456892]]])"
      ]
     },
     "execution_count": 5,
     "metadata": {},
     "output_type": "execute_result"
    }
   ],
   "source": [
    "# Method 3\n",
    "a = np.random.sample((2, 3, 5))\n",
    "a"
   ]
  },
  {
   "cell_type": "markdown",
   "metadata": {},
   "source": [
    "#### 4. Print *a*.\n"
   ]
  },
  {
   "cell_type": "code",
   "execution_count": 6,
   "metadata": {},
   "outputs": [
    {
     "data": {
      "text/plain": [
       "array([[[0.23264436, 0.22146875, 0.97216383, 0.36645908, 0.65625409],\n",
       "        [0.13896345, 0.33288225, 0.171618  , 0.07062614, 0.84527171],\n",
       "        [0.01312103, 0.22189045, 0.28680641, 0.86145528, 0.64521649]],\n",
       "\n",
       "       [[0.65939924, 0.58907297, 0.62199653, 0.35944146, 0.56451894],\n",
       "        [0.96925176, 0.40686761, 0.37137264, 0.38725256, 0.84635687],\n",
       "        [0.21747909, 0.22344552, 0.82046235, 0.63331852, 0.59456892]]])"
      ]
     },
     "execution_count": 6,
     "metadata": {},
     "output_type": "execute_result"
    }
   ],
   "source": [
    "# your code here\n",
    "a"
   ]
  },
  {
   "cell_type": "markdown",
   "metadata": {},
   "source": [
    "#### 5. Create a 5x2x3 3-dimensional array with all values equaling 1. Assign the array to variable *b*."
   ]
  },
  {
   "cell_type": "code",
   "execution_count": 7,
   "metadata": {},
   "outputs": [],
   "source": [
    "# your code here\n",
    "b=np.ones((5,2,3))"
   ]
  },
  {
   "cell_type": "markdown",
   "metadata": {},
   "source": [
    "#### 6. Print *b*.\n"
   ]
  },
  {
   "cell_type": "code",
   "execution_count": 8,
   "metadata": {},
   "outputs": [
    {
     "data": {
      "text/plain": [
       "array([[[1., 1., 1.],\n",
       "        [1., 1., 1.]],\n",
       "\n",
       "       [[1., 1., 1.],\n",
       "        [1., 1., 1.]],\n",
       "\n",
       "       [[1., 1., 1.],\n",
       "        [1., 1., 1.]],\n",
       "\n",
       "       [[1., 1., 1.],\n",
       "        [1., 1., 1.]],\n",
       "\n",
       "       [[1., 1., 1.],\n",
       "        [1., 1., 1.]]])"
      ]
     },
     "execution_count": 8,
     "metadata": {},
     "output_type": "execute_result"
    }
   ],
   "source": [
    "# your code here\n",
    "b"
   ]
  },
  {
   "cell_type": "markdown",
   "metadata": {},
   "source": [
    "#### 7. Do *a* and *b* have the same size? How do you prove that in Python code?"
   ]
  },
  {
   "cell_type": "code",
   "execution_count": 9,
   "metadata": {},
   "outputs": [
    {
     "name": "stdout",
     "output_type": "stream",
     "text": [
      "They have the same size!\n"
     ]
    }
   ],
   "source": [
    "# your code here\n",
    "# your code here\n",
    "if a.size == b.size:\n",
    "    print(\"They have the same size!\")\n",
    "else:\n",
    "    print(\"They do not.\")"
   ]
  },
  {
   "cell_type": "markdown",
   "metadata": {},
   "source": [
    "#### 8. Are you able to add *a* and *b*? Why or why not?\n"
   ]
  },
  {
   "cell_type": "code",
   "execution_count": 10,
   "metadata": {},
   "outputs": [
    {
     "name": "stdout",
     "output_type": "stream",
     "text": [
      "No we are not able to add because even tho they have the same size they have different shapes.\n"
     ]
    },
    {
     "ename": "ValueError",
     "evalue": "operands could not be broadcast together with shapes (2,3,5) (5,2,3) ",
     "output_type": "error",
     "traceback": [
      "\u001b[1;31m---------------------------------------------------------------------------\u001b[0m",
      "\u001b[1;31mValueError\u001b[0m                                Traceback (most recent call last)",
      "\u001b[1;32mc:\\Users\\ABR\\Desktop\\Ironlabs\\module1\\Lab_24_Numpy\\main.ipynb Cellule 18\u001b[0m in \u001b[0;36m<cell line: 3>\u001b[1;34m()\u001b[0m\n\u001b[0;32m      <a href='vscode-notebook-cell:/c%3A/Users/ABR/Desktop/Ironlabs/module1/Lab_24_Numpy/main.ipynb#X23sZmlsZQ%3D%3D?line=0'>1</a>\u001b[0m \u001b[39m# your answer here\u001b[39;00m\n\u001b[0;32m      <a href='vscode-notebook-cell:/c%3A/Users/ABR/Desktop/Ironlabs/module1/Lab_24_Numpy/main.ipynb#X23sZmlsZQ%3D%3D?line=1'>2</a>\u001b[0m \u001b[39mprint\u001b[39m(\u001b[39m\"\u001b[39m\u001b[39mNo we are not able to add because even tho they have the same size they have different shapes.\u001b[39m\u001b[39m\"\u001b[39m)\n\u001b[1;32m----> <a href='vscode-notebook-cell:/c%3A/Users/ABR/Desktop/Ironlabs/module1/Lab_24_Numpy/main.ipynb#X23sZmlsZQ%3D%3D?line=2'>3</a>\u001b[0m c\u001b[39m=\u001b[39ma\u001b[39m+\u001b[39;49mb\n",
      "\u001b[1;31mValueError\u001b[0m: operands could not be broadcast together with shapes (2,3,5) (5,2,3) "
     ]
    }
   ],
   "source": [
    "# your answer here\n",
    "print(\"No we are not able to add because even tho they have the same size they have different shapes.\")\n",
    "c=a+b"
   ]
  },
  {
   "cell_type": "markdown",
   "metadata": {},
   "source": [
    "#### 9. Transpose *b* so that it has the same structure of *a* (i.e. become a 2x3x5 array). Assign the transposed array to variable *c*."
   ]
  },
  {
   "cell_type": "code",
   "execution_count": 11,
   "metadata": {},
   "outputs": [
    {
     "data": {
      "text/plain": [
       "(2, 3, 5)"
      ]
     },
     "execution_count": 11,
     "metadata": {},
     "output_type": "execute_result"
    }
   ],
   "source": [
    "# your code here\n",
    "# your code here\n",
    "c = np.transpose(b, axes=(1, 2, 0))\n",
    "c.shape"
   ]
  },
  {
   "cell_type": "markdown",
   "metadata": {},
   "source": [
    "#### 10. Try to add *a* and *c*. Now it should work. Assign the sum to variable *d*. But why does it work now?"
   ]
  },
  {
   "cell_type": "code",
   "execution_count": 12,
   "metadata": {},
   "outputs": [
    {
     "data": {
      "text/plain": [
       "(2, 3, 5)"
      ]
     },
     "execution_count": 12,
     "metadata": {},
     "output_type": "execute_result"
    }
   ],
   "source": [
    "# your code/answer here\n",
    "# your code/answer here\n",
    "d = a + c\n",
    "d.shape"
   ]
  },
  {
   "cell_type": "markdown",
   "metadata": {},
   "source": [
    "#### 11. Print *a* and *d*. Notice the difference and relation of the two array in terms of the values? Explain."
   ]
  },
  {
   "cell_type": "code",
   "execution_count": 13,
   "metadata": {},
   "outputs": [
    {
     "name": "stdout",
     "output_type": "stream",
     "text": [
      "[[0.23264436 0.22146875 0.97216383 0.36645908 0.65625409]\n",
      " [0.13896345 0.33288225 0.171618   0.07062614 0.84527171]\n",
      " [0.01312103 0.22189045 0.28680641 0.86145528 0.64521649]]\n",
      "[[1.23264436 1.22146875 1.97216383 1.36645908 1.65625409]\n",
      " [1.13896345 1.33288225 1.171618   1.07062614 1.84527171]\n",
      " [1.01312103 1.22189045 1.28680641 1.86145528 1.64521649]]\n"
     ]
    }
   ],
   "source": [
    "# your code/answer here\n",
    "print(a[0])\n",
    "print(d[0])"
   ]
  },
  {
   "cell_type": "markdown",
   "metadata": {},
   "source": [
    "#### 12. Multiply *a* and *c*. Assign the result to *e*."
   ]
  },
  {
   "cell_type": "code",
   "execution_count": 14,
   "metadata": {},
   "outputs": [
    {
     "name": "stdout",
     "output_type": "stream",
     "text": [
      "[[[0.23264436 0.22146875 0.97216383 0.36645908 0.65625409]\n",
      "  [0.13896345 0.33288225 0.171618   0.07062614 0.84527171]\n",
      "  [0.01312103 0.22189045 0.28680641 0.86145528 0.64521649]]\n",
      "\n",
      " [[0.65939924 0.58907297 0.62199653 0.35944146 0.56451894]\n",
      "  [0.96925176 0.40686761 0.37137264 0.38725256 0.84635687]\n",
      "  [0.21747909 0.22344552 0.82046235 0.63331852 0.59456892]]]\n"
     ]
    }
   ],
   "source": [
    "# your code here\n",
    "e = a * c\n",
    "print(e)"
   ]
  },
  {
   "cell_type": "markdown",
   "metadata": {},
   "source": [
    "#### 13. Does *e* equal to *a*? Why or why not?\n"
   ]
  },
  {
   "cell_type": "code",
   "execution_count": 15,
   "metadata": {},
   "outputs": [
    {
     "name": "stdout",
     "output_type": "stream",
     "text": [
      "Yes they're the same!\n"
     ]
    }
   ],
   "source": [
    "# your code/answer here\n",
    "if np.array_equal(e, a):\n",
    "    print(\"Yes they're the same!\")"
   ]
  },
  {
   "cell_type": "markdown",
   "metadata": {},
   "source": [
    "#### 14. Identify the max, min, and mean values in *d*. Assign those values to variables *d_max*, *d_min* and *d_mean*."
   ]
  },
  {
   "cell_type": "code",
   "execution_count": 16,
   "metadata": {},
   "outputs": [
    {
     "name": "stdout",
     "output_type": "stream",
     "text": [
      "1.9721638339196361\n",
      "1.0131210309856624\n",
      "1.476721542798498\n"
     ]
    }
   ],
   "source": [
    "# your code here\n",
    "d_max = d.max()\n",
    "d_min = d.min()\n",
    "d_mean = d.mean()\n",
    "\n",
    "print(d_max)\n",
    "print(d_min)\n",
    "print(d_mean)"
   ]
  },
  {
   "cell_type": "markdown",
   "metadata": {},
   "source": [
    "#### 15. Now we want to label the values in *d*. First create an empty array *f* with the same shape (i.e. 2x3x5) as *d* using `np.empty`.\n"
   ]
  },
  {
   "cell_type": "code",
   "execution_count": 17,
   "metadata": {},
   "outputs": [
    {
     "data": {
      "text/plain": [
       "array([[[0.23264436, 0.22146875, 0.97216383, 0.36645908, 0.65625409],\n",
       "        [0.13896345, 0.33288225, 0.171618  , 0.07062614, 0.84527171],\n",
       "        [0.01312103, 0.22189045, 0.28680641, 0.86145528, 0.64521649]],\n",
       "\n",
       "       [[0.65939924, 0.58907297, 0.62199653, 0.35944146, 0.56451894],\n",
       "        [0.96925176, 0.40686761, 0.37137264, 0.38725256, 0.84635687],\n",
       "        [0.21747909, 0.22344552, 0.82046235, 0.63331852, 0.59456892]]])"
      ]
     },
     "execution_count": 17,
     "metadata": {},
     "output_type": "execute_result"
    }
   ],
   "source": [
    "# your code here\n",
    "# your code here\n",
    "f = np.empty([2, 3, 5])\n",
    "f"
   ]
  },
  {
   "cell_type": "markdown",
   "metadata": {},
   "source": [
    "#### 16. Populate the values in *f*. \n",
    "\n",
    "For each value in *d*, if it's larger than *d_min* but smaller than *d_mean*, assign 25 to the corresponding value in *f*. If a value in *d* is larger than *d_mean* but smaller than *d_max*, assign 75 to the corresponding value in *f*. If a value equals to *d_mean*, assign 50 to the corresponding value in *f*. Assign 0 to the corresponding value(s) in *f* for *d_min* in *d*. Assign 100 to the corresponding value(s) in *f* for *d_max* in *d*. In the end, f should have only the following values: 0, 25, 50, 75, and 100.\n",
    "\n",
    "**Note**: you don't have to use Numpy in this question."
   ]
  },
  {
   "cell_type": "code",
   "execution_count": 18,
   "metadata": {},
   "outputs": [
    {
     "name": "stdout",
     "output_type": "stream",
     "text": [
      "[[[ 25  25 100  25  75]\n",
      "  [ 25  25  25  25  75]\n",
      "  [  0  25  25  75  75]]\n",
      "\n",
      " [[ 75  75  75  25  75]\n",
      "  [ 75  25  25  25  75]\n",
      "  [ 25  25  75  75  75]]]\n"
     ]
    }
   ],
   "source": [
    "# your code here\n",
    "f = []\n",
    "for x in np.nditer(d):\n",
    "    if d_min < x < d_mean:\n",
    "        f += [25]\n",
    "    if d_mean < x < d_max:\n",
    "        f += [75]\n",
    "    if x == d_mean:\n",
    "        f += [50]\n",
    "    if x == d_min:\n",
    "        f += [0]\n",
    "    if x == d_max:\n",
    "        f += [100]\n",
    "    \n",
    "        \n",
    "f = np.reshape(f, d.shape) \n",
    "print(f)"
   ]
  },
  {
   "cell_type": "markdown",
   "metadata": {},
   "source": [
    "#### 17. Print *d* and *f*. Do you have your expected *f*?\n",
    "For instance, if your *d* is:\n",
    "```python\n",
    "[[[1.85836099, 1.67064465, 1.62576044, 1.40243961, 1.88454931],\n",
    "[1.75354326, 1.69403643, 1.36729252, 1.61415071, 1.12104981],\n",
    "[1.72201435, 1.1862918 , 1.87078449, 1.7726778 , 1.88180042]],\n",
    "[[1.44747908, 1.31673383, 1.02000951, 1.52218947, 1.97066381],\n",
    "[1.79129243, 1.74983003, 1.96028037, 1.85166831, 1.65450881],\n",
    "[1.18068344, 1.9587381 , 1.00656599, 1.93402165, 1.73514584]]]\n",
    "```\n",
    "Your *f* should be:\n",
    "```python\n",
    "[[[ 75.,  75.,  75.,  25.,  75.],\n",
    "[ 75.,  75.,  25.,  25.,  25.],\n",
    "[ 75.,  25.,  75.,  75.,  75.]],\n",
    "[[ 25.,  25.,  25.,  25., 100.],\n",
    "[ 75.,  75.,  75.,  75.,  75.],\n",
    "[ 25.,  75.,   0.,  75.,  75.]]]\n",
    "```"
   ]
  },
  {
   "cell_type": "code",
   "execution_count": 19,
   "metadata": {},
   "outputs": [
    {
     "name": "stdout",
     "output_type": "stream",
     "text": [
      "[[[1.23264436 1.22146875 1.97216383 1.36645908 1.65625409]\n",
      "  [1.13896345 1.33288225 1.171618   1.07062614 1.84527171]\n",
      "  [1.01312103 1.22189045 1.28680641 1.86145528 1.64521649]]\n",
      "\n",
      " [[1.65939924 1.58907297 1.62199653 1.35944146 1.56451894]\n",
      "  [1.96925176 1.40686761 1.37137264 1.38725256 1.84635687]\n",
      "  [1.21747909 1.22344552 1.82046235 1.63331852 1.59456892]]]\n",
      "[[[ 25  25 100  25  75]\n",
      "  [ 25  25  25  25  75]\n",
      "  [  0  25  25  75  75]]\n",
      "\n",
      " [[ 75  75  75  25  75]\n",
      "  [ 75  25  25  25  75]\n",
      "  [ 25  25  75  75  75]]]\n"
     ]
    }
   ],
   "source": [
    "# your code here\n",
    "# your code here\n",
    "print(d)\n",
    "print(f)"
   ]
  },
  {
   "cell_type": "markdown",
   "metadata": {},
   "source": [
    "#### 18. Bonus question: instead of using numbers (i.e. 0, 25, 50, 75, and 100), use string values  (\"A\", \"B\", \"C\", \"D\", and \"E\") to label the array elements. For the example above, the expected result is:\n",
    "\n",
    "```python\n",
    "[[[ 'D',  'D',  'D',  'B',  'D'],\n",
    "[ 'D',  'D',  'B',  'B',  'B'],\n",
    "[ 'D',  'B',  'D',  'D',  'D']],\n",
    "[[ 'B',  'B',  'B',  'B',  'E'],\n",
    "[ 'D',  'D',  'D',  'D',  'D'],\n",
    "[ 'B',  'D',   'A',  'D', 'D']]]\n",
    "```\n",
    "**Note**: you don't have to use Numpy in this question."
   ]
  },
  {
   "cell_type": "code",
   "execution_count": 20,
   "metadata": {},
   "outputs": [
    {
     "name": "stdout",
     "output_type": "stream",
     "text": [
      "[[['B' 'B' 'E' 'B' 'D']\n",
      "  ['B' 'B' 'B' 'B' 'D']\n",
      "  ['A' 'B' 'B' 'D' 'D']]\n",
      "\n",
      " [['D' 'D' 'D' 'B' 'D']\n",
      "  ['D' 'B' 'B' 'B' 'D']\n",
      "  ['B' 'B' 'D' 'D' 'D']]]\n"
     ]
    }
   ],
   "source": [
    "# your code here\n",
    "j = []\n",
    "for x in np.nditer(d):\n",
    "    if d_min < x < d_mean:\n",
    "        j += ['B']\n",
    "    if d_mean < x < d_max:\n",
    "        j += ['D']\n",
    "    if x == d_mean:\n",
    "        j += ['C']\n",
    "    if x == d_min:\n",
    "        j += ['A']\n",
    "    if x == d_max:\n",
    "        j += ['E']\n",
    "    \n",
    "j = np.reshape(j, d.shape) \n",
    "print(j)\n"
   ]
  },
  {
   "cell_type": "code",
   "execution_count": 21,
   "metadata": {},
   "outputs": [
    {
     "name": "stdout",
     "output_type": "stream",
     "text": [
      "[[['B' 'B' 'E' 'B' 'D']\n",
      "  ['B' 'B' 'B' 'B' 'D']\n",
      "  ['A' 'B' 'B' 'D' 'D']]\n",
      "\n",
      " [['D' 'D' 'D' 'B' 'D']\n",
      "  ['D' 'B' 'B' 'B' 'D']\n",
      "  ['B' 'B' 'D' 'D' 'D']]]\n",
      "[[[1.23264436 1.22146875 1.97216383 1.36645908 1.65625409]\n",
      "  [1.13896345 1.33288225 1.171618   1.07062614 1.84527171]\n",
      "  [1.01312103 1.22189045 1.28680641 1.86145528 1.64521649]]\n",
      "\n",
      " [[1.65939924 1.58907297 1.62199653 1.35944146 1.56451894]\n",
      "  [1.96925176 1.40686761 1.37137264 1.38725256 1.84635687]\n",
      "  [1.21747909 1.22344552 1.82046235 1.63331852 1.59456892]]]\n"
     ]
    }
   ],
   "source": [
    "g = []\n",
    "\n",
    "for elem in np.nditer(d):\n",
    "\tif d_mean > elem > d_min:\n",
    "\t\tg += 'B'\n",
    "\telif d_mean < elem < d_max:\n",
    "\t\tg += 'D'\n",
    "\telif elem == d_mean:\n",
    "\t\tg += 'C'\n",
    "\telif elem == d_min:\n",
    "\t\tg += 'A'\n",
    "\telse:\n",
    "\t\tg += 'E'\n",
    "\n",
    "g = np.reshape(g,(2,3,5))\n",
    "print(g)\n",
    "print(d)"
   ]
  },
  {
   "cell_type": "code",
   "execution_count": null,
   "metadata": {},
   "outputs": [],
   "source": []
  }
 ],
 "metadata": {
  "kernelspec": {
   "display_name": "Python 3.9.12 ('base')",
   "language": "python",
   "name": "python3"
  },
  "language_info": {
   "codemirror_mode": {
    "name": "ipython",
    "version": 3
   },
   "file_extension": ".py",
   "mimetype": "text/x-python",
   "name": "python",
   "nbconvert_exporter": "python",
   "pygments_lexer": "ipython3",
   "version": "3.9.12"
  },
  "vscode": {
   "interpreter": {
    "hash": "a30add7c8e4d33a5bdb7043325678fb7a749884015e3f465812c6269e93fc9ee"
   }
  }
 },
 "nbformat": 4,
 "nbformat_minor": 2
}
