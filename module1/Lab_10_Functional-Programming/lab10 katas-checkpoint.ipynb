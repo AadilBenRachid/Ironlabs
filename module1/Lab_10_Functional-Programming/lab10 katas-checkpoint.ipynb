{
 "cells": [
  {
   "cell_type": "markdown",
   "id": "6dd7494c",
   "metadata": {},
   "source": [
    "### Consider an array/list of sheep where some sheep may be missing from their place. We need a function that counts the number of sheep present in the array (true means present).\n",
    "\n",
    "\n",
    "The correct answer would be 17  \n"
   ]
  },
  {
   "cell_type": "code",
   "execution_count": null,
   "id": "d20e0b9d",
   "metadata": {},
   "outputs": [],
   "source": [
    "def count_sheeps(array):\n",
    "    sheep=0\n",
    "    for i in array :\n",
    "        \n",
    "        if i == True :\n",
    "            sheep= sheep+1\n",
    "    return sheep\n",
    "array1 = [True,  True,  True,  False,\n",
    "          True,  True,  True,  True ,\n",
    "          True,  False, True,  False,\n",
    "          True,  False, False, True ,\n",
    "          True,  True,  True,  True ,\n",
    "          False, False, True,  True ];\n",
    "        \n",
    "count_sheeps(array1)"
   ]
  },
  {
   "cell_type": "markdown",
   "id": "503ed594",
   "metadata": {},
   "source": [
    "### Take an array and remove every second element from the array. Always keep the first element and start removing with the next element."
   ]
  },
  {
   "cell_type": "code",
   "execution_count": null,
   "id": "eabdaf42",
   "metadata": {},
   "outputs": [],
   "source": [
    "def remove_every_other(my_list):\n",
    "\n",
    "    return my_list[::2]"
   ]
  },
  {
   "cell_type": "code",
   "execution_count": null,
   "id": "01094e6e",
   "metadata": {},
   "outputs": [],
   "source": [
    "def remove_every_other(my_list):\n",
    "    return [i for e,i in enumerate(my_list) if e % 2 == 0]"
   ]
  },
  {
   "cell_type": "code",
   "execution_count": null,
   "id": "3d633ac3",
   "metadata": {},
   "outputs": [],
   "source": [
    "def remove_every_other(x):\n",
    "    list1=[]\n",
    "    for i in range(len(x)):\n",
    "        if i %2 == 0:\n",
    "            list1.append(x[i])\n",
    "    return list1"
   ]
  },
  {
   "cell_type": "markdown",
   "id": "e055de57",
   "metadata": {},
   "source": [
    "### Given a random non-negative number, you have to return the digits of this number within an array in reverse order."
   ]
  },
  {
   "cell_type": "code",
   "execution_count": 13,
   "id": "9b82db22",
   "metadata": {},
   "outputs": [
    {
     "name": "stdout",
     "output_type": "stream",
     "text": [
      "[1, 2, 3, 4, 5, 6, 7, 8, 9]\n"
     ]
    }
   ],
   "source": [
    "def digitize(n):\n",
    "    list=[]\n",
    "    \n",
    "    for i in str(n)[::-1]:\n",
    "        list.append(int(i))\n",
    "        \n",
    "    return list\n",
    "\n",
    "print(digitize(987654321))\n",
    "    "
   ]
  },
  {
   "cell_type": "code",
   "execution_count": null,
   "id": "513d0e8a",
   "metadata": {},
   "outputs": [],
   "source": [
    "def digitize(n):\n",
    "    n2=str(n)\n",
    "    l=list(n2)\n",
    "    l.reverse()\n",
    "    li = []\n",
    "    for i in l:\n",
    "        li.append(int(i))\n",
    "    return li"
   ]
  },
  {
   "cell_type": "markdown",
   "id": "b9bba3aa",
   "metadata": {},
   "source": [
    "### Welcome. In this kata, you are asked to square every digit of a number and concatenate them.\n",
    "For example, if we run 9119 through the function, 811181 will come out, because 92 is 81 and 12 is 1.\n",
    "Note: The function accepts an integer and returns an integer"
   ]
  },
  {
   "cell_type": "code",
   "execution_count": null,
   "id": "f107883b",
   "metadata": {},
   "outputs": [],
   "source": [
    "def square_digits(num):\n",
    "    num = str(num)\n",
    "    result = ''\n",
    "    for i in num:\n",
    "        result += str(int(i)**2)\n",
    "    return int(result)\n",
    "\n",
    "# output: 818181    "
   ]
  },
  {
   "cell_type": "code",
   "execution_count": null,
   "id": "b3d192fc",
   "metadata": {},
   "outputs": [],
   "source": [
    "def square_digits(n):\n",
    "    n2=str(n)\n",
    "    l=list(n2)\n",
    "    li = []\n",
    "    for i in l:\n",
    "        li.append(str(int(i)**2))\n",
    "        s = ''.join(li)\n",
    "    return int(s)\n",
    "\n",
    "square_digits(999)\n",
    "\n",
    "# output: 818181"
   ]
  },
  {
   "cell_type": "markdown",
   "id": "b2c9bc5e",
   "metadata": {},
   "source": [
    "### We need a method in the List Class that may count specific digits from a given list of integers. This marked digits will be given in a second list. The method .count_spec_digits()/.countSpecDigits() will accept two arguments, a list of an uncertain amount of integers integers_lists/integersLists (and of an uncertain amount of digits, too) and a second list, digits_list/digitsList that has the specific digits to count which length cannot be be longer than 10 (It's obvious, we've got ten digits). The method will output a list of tuples, each tuple having two elements, the first one will be a digit to count, and second one, its corresponding total frequency in all the integers of the first list. This list of tuples should be ordered with the same order that the digits have in digitsList"
   ]
  },
  {
   "cell_type": "code",
   "execution_count": null,
   "id": "c4d5d762",
   "metadata": {},
   "outputs": [],
   "source": [
    "class List(object):\n",
    "    def count_spec_digits(integers_list, digits_list):\n",
    "        result = []\n",
    "        str_list = ''.join(str(i) for i in integers_list)\n",
    "        for digit in digits_list:\n",
    "            result.append((digit, str_list.count(str(digit))))\n",
    "        return result"
   ]
  }
 ],
 "metadata": {
  "kernelspec": {
   "display_name": "Python 3.8.0 32-bit",
   "language": "python",
   "name": "python3"
  },
  "language_info": {
   "codemirror_mode": {
    "name": "ipython",
    "version": 3
   },
   "file_extension": ".py",
   "mimetype": "text/x-python",
   "name": "python",
   "nbconvert_exporter": "python",
   "pygments_lexer": "ipython3",
   "version": "3.8.0"
  },
  "vscode": {
   "interpreter": {
    "hash": "15533d8ee8d0b0380e64bfe6d2f4917e95282a1f0e5be33958393ef6ee7fe294"
   }
  }
 },
 "nbformat": 4,
 "nbformat_minor": 5
}
