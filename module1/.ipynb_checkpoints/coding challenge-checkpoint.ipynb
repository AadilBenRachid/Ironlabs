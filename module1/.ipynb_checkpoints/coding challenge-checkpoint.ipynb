{
 "cells": [
  {
   "cell_type": "markdown",
   "id": "c60d3727",
   "metadata": {},
   "source": [
    "### 1 - Write a program to accept the price of a bike and display the road tax to be paid according to the following criteria : \n",
    "\n",
    "                        Price                                  Tax ​\n",
    "                        > 100000                                15 % ​\n",
    "                        > 50000 and <= 100000                   10% ​\n",
    "                        <= 50000                                5%​\n"
   ]
  },
  {
   "cell_type": "code",
   "execution_count": null,
   "id": "2e19ee56",
   "metadata": {},
   "outputs": [],
   "source": [
    "price=int(input(\"enter the bike price : \"))\n",
    "\n",
    "price=float(price)\n",
    "\n",
    "if price <= 50000 :\n",
    "    taxe=0.05\n",
    "    print(price*taxe)\n",
    "elif price >50000 and price <=100000 :\n",
    "    taxe=0.1\n",
    "    print(price*taxe)\n",
    "else :\n",
    "    taxe=0.15\n",
    "    print(price*taxe)\n",
    "\n"
   ]
  },
  {
   "cell_type": "markdown",
   "id": "fba5b753",
   "metadata": {},
   "source": [
    "### 3 - Given two sentences, return an array that has the words that appear in one sentence and not the other and an array with the words in common.\n"
   ]
  },
  {
   "cell_type": "code",
   "execution_count": 31,
   "id": "e6496c3d",
   "metadata": {},
   "outputs": [
    {
     "name": "stdout",
     "output_type": "stream",
     "text": [
      "['My', 'name', 'is', 'Aadil']\n",
      "['My', 'name', 'is', 'Aadil', 'and', 'i', 'study', 'Data']\n",
      "{'study', 'Data', 'and', 'i'}\n",
      "{'is', 'Aadil', 'My', 'name'}\n",
      "{'study', 'Data', 'and', 'i'}\n"
     ]
    }
   ],
   "source": [
    "str1=\"My name is Aadil\"\n",
    "str2=\"My name is Aadil and i study Data\"\n",
    "\n",
    "\n",
    "s1list=str1.split(\" \",-1)\n",
    "s2list=str2.split(\" \",-1)\n",
    "\n",
    "print(s1list)\n",
    "print(s2list)\n",
    "\n",
    "s1=set(s1list)\n",
    "s2=set(s2list)\n",
    "\n",
    "\n",
    "\n",
    "\n",
    "intersection= s1.intersection(s2)\n",
    "difference= s2.difference(s1)\n",
    "\n",
    "z=s2-s1\n",
    "\n",
    "print(difference)\n",
    "print(intersection)\n",
    "print(z)\n"
   ]
  },
  {
   "cell_type": "markdown",
   "id": "9d1910a4",
   "metadata": {},
   "source": [
    "### 2 - Given the array of numbers , write a program to move all zeros to the end keeping  the relative order of the non-zero elements.\n"
   ]
  },
  {
   "cell_type": "code",
   "execution_count": 33,
   "id": "e9374d9d",
   "metadata": {},
   "outputs": [
    {
     "name": "stdout",
     "output_type": "stream",
     "text": [
      "[1, 2, 3, 4, 5, 6, 0, 0, 0]\n"
     ]
    }
   ],
   "source": [
    "array=[1,2,3,0,0,4,5,6,0]\n",
    "array2=[]\n",
    "\n",
    "i=0\n",
    "\n",
    "for i in range(len(array)):\n",
    "    if array[i] !=0:\n",
    "        array2.append(array[i])\n",
    "        i += 1\n",
    "\n",
    "for i in range(len(array)):\n",
    "    if array[i] ==0:\n",
    "        array2.append(array[i])\n",
    "        i += 1\n",
    "        \n",
    "print(array2)\n",
    "    "
   ]
  },
  {
   "cell_type": "code",
   "execution_count": 34,
   "id": "325e4a56",
   "metadata": {},
   "outputs": [
    {
     "name": "stdout",
     "output_type": "stream",
     "text": [
      "please enter number, if you don't want enter stop1\n",
      "please enter number1\n",
      "please enter number1\n",
      "please enter number1\n",
      "please enter number\n"
     ]
    }
   ],
   "source": [
    "u=input(\"please enter number, if you don't want enter stop\")\n",
    "i=1\n",
    "while u !=\"stop\" and i<5:\n",
    "    u=input(\"please enter number\")\n",
    "    i=i+1\n",
    "    "
   ]
  },
  {
   "cell_type": "code",
   "execution_count": 36,
   "id": "fda61d9e",
   "metadata": {},
   "outputs": [
    {
     "data": {
      "text/plain": [
       "(5, 2)"
      ]
     },
     "execution_count": 36,
     "metadata": {},
     "output_type": "execute_result"
    }
   ],
   "source": [
    "def f1(x):\n",
    "    y = x**2 + 1 , x\n",
    "    return y\n",
    "\n",
    "f1(2)"
   ]
  },
  {
   "cell_type": "code",
   "execution_count": 42,
   "id": "424aaa02",
   "metadata": {},
   "outputs": [
    {
     "ename": "TypeError",
     "evalue": "taxes() missing 1 required positional argument: 'salary_limit'",
     "output_type": "error",
     "traceback": [
      "\u001b[1;31m---------------------------------------------------------------------------\u001b[0m",
      "\u001b[1;31mTypeError\u001b[0m                                 Traceback (most recent call last)",
      "Input \u001b[1;32mIn [42]\u001b[0m, in \u001b[0;36m<cell line: 14>\u001b[1;34m()\u001b[0m\n\u001b[0;32m     11\u001b[0m     \u001b[38;5;28;01melse\u001b[39;00m :\n\u001b[0;32m     12\u001b[0m         \u001b[38;5;28;01mreturn\u001b[39;00m t2\n\u001b[1;32m---> 14\u001b[0m \u001b[43mtaxes\u001b[49m\u001b[43m(\u001b[49m\u001b[38;5;241;43m60000\u001b[39;49m\u001b[43m)\u001b[49m\n",
      "\u001b[1;31mTypeError\u001b[0m: taxes() missing 1 required positional argument: 'salary_limit'"
     ]
    }
   ],
   "source": [
    "taxe=[20,25]\n",
    "salary_limit=[50000]\n",
    "\n",
    "t1=taxe[0]\n",
    "t2=taxe[1]\n",
    "\n",
    "def taxes(taxe,salary_limit) :\n",
    "    salary=int(input(\"enter your salary: \"))\n",
    "    if salary < salary_limit :\n",
    "        return t1\n",
    "    else :\n",
    "        return t2\n",
    "\n",
    "\n",
    "    "
   ]
  }
 ],
 "metadata": {
  "kernelspec": {
   "display_name": "Python 3 (ipykernel)",
   "language": "python",
   "name": "python3"
  },
  "language_info": {
   "codemirror_mode": {
    "name": "ipython",
    "version": 3
   },
   "file_extension": ".py",
   "mimetype": "text/x-python",
   "name": "python",
   "nbconvert_exporter": "python",
   "pygments_lexer": "ipython3",
   "version": "3.9.12"
  }
 },
 "nbformat": 4,
 "nbformat_minor": 5
}
