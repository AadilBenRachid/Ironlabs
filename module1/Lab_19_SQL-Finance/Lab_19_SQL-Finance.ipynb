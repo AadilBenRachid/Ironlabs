{
 "cells": [
  {
   "cell_type": "markdown",
   "id": "dc1f8921",
   "metadata": {},
   "source": [
    "### 1. From the order_items table, find the price of the highest priced order and lowest price order."
   ]
  },
  {
   "cell_type": "code",
   "execution_count": null,
   "id": "eddeb8e3",
   "metadata": {},
   "outputs": [],
   "source": [
    "USE `olist`;\n",
    "\n",
    "select price from order_items\n",
    "order by price desc\n",
    "limit 5;"
   ]
  },
  {
   "cell_type": "code",
   "execution_count": null,
   "id": "07ca248f",
   "metadata": {},
   "outputs": [],
   "source": [
    "output: \n",
    "    >6735\n",
    "6729\n",
    "6499\n",
    "4799\n",
    "4690"
   ]
  },
  {
   "cell_type": "markdown",
   "id": "dd321a61",
   "metadata": {},
   "source": [
    "### 2. From the order_items table, what is range of the shipping_limit_date of the orders?"
   ]
  },
  {
   "cell_type": "code",
   "execution_count": null,
   "id": "f6c3d52a",
   "metadata": {},
   "outputs": [],
   "source": [
    "select max(shipping_limit_date), min(shipping_limit_date) from order_items;"
   ]
  },
  {
   "cell_type": "code",
   "execution_count": null,
   "id": "210345d4",
   "metadata": {},
   "outputs": [],
   "source": [
    "output: \n",
    "    2020-04-10 00:35:08\t2016-09-19 02:15:34"
   ]
  },
  {
   "cell_type": "markdown",
   "id": "8f9b3726",
   "metadata": {},
   "source": [
    "### 3. From the customers table, find the states with the greatest number of customers."
   ]
  },
  {
   "cell_type": "code",
   "execution_count": null,
   "id": "78bdaa49",
   "metadata": {},
   "outputs": [],
   "source": [
    "select customer_state, count(customer_unique_id) from customers\n",
    "group by customer_state\n",
    "order by count(customer_unique_id) desc\n",
    "limit 10;"
   ]
  },
  {
   "cell_type": "code",
   "execution_count": null,
   "id": "8c024484",
   "metadata": {},
   "outputs": [],
   "source": [
    "output:\n",
    "    SP\t41746\n",
    "RJ\t12852\n",
    "MG\t11635\n",
    "RS\t5466\n",
    "PR\t5045"
   ]
  },
  {
   "cell_type": "markdown",
   "id": "d7156f88",
   "metadata": {},
   "source": [
    "### 4. From the customers table, within the state with the greatest number of customers, find the cities with the greatest number of customers."
   ]
  },
  {
   "cell_type": "code",
   "execution_count": null,
   "id": "b58ef396",
   "metadata": {},
   "outputs": [],
   "source": [
    "select customer_city, customer_state, count(customer_unique_id) from customers\n",
    "where customer_state in ('SP')\n",
    "group by customer_city\n",
    "order by count(customer_unique_id) desc\n",
    "limit 5;"
   ]
  },
  {
   "cell_type": "code",
   "execution_count": null,
   "id": "04be10d0",
   "metadata": {},
   "outputs": [],
   "source": [
    "output:\n",
    "    sao paulo\tSP\t15540\n",
    "campinas\tSP\t1444\n",
    "guarulhos\tSP\t1189\n",
    "sao bernardo do campo\tSP\t938\n",
    "santo andre\tSP\t796"
   ]
  },
  {
   "cell_type": "markdown",
   "id": "40433398",
   "metadata": {},
   "source": [
    "### 5. From the closed_deals table, how many distinct business segments are there (not including null)?"
   ]
  },
  {
   "cell_type": "code",
   "execution_count": null,
   "id": "4da2cf86",
   "metadata": {},
   "outputs": [],
   "source": [
    "select count(distinct business_segment) from closed_deals;"
   ]
  },
  {
   "cell_type": "code",
   "execution_count": null,
   "id": "6b36948b",
   "metadata": {},
   "outputs": [],
   "source": [
    "output:\n",
    "    33"
   ]
  },
  {
   "cell_type": "markdown",
   "id": "9d1cbcc7",
   "metadata": {},
   "source": [
    "### 6. From the closed_deals table, sum the declared_monthly_revenue for duplicate row values in business_segment and find the 3 business segments with the highest declared monthly revenue (of those that declared revenue)."
   ]
  },
  {
   "cell_type": "code",
   "execution_count": null,
   "id": "915125ef",
   "metadata": {},
   "outputs": [],
   "source": [
    "select business_segment, sum(declared_monthly_revenue) from closed_deals\n",
    "group by business_segment\n",
    "order by sum(declared_monthly_revenue) desc\n",
    "limit 3;"
   ]
  },
  {
   "cell_type": "code",
   "execution_count": null,
   "id": "bb7b3049",
   "metadata": {},
   "outputs": [],
   "source": [
    "output:\n",
    "    construction_tools_house_garden\t50695006\n",
    "phone_mobile\t8000000\n",
    "home_decor\t710000"
   ]
  },
  {
   "cell_type": "markdown",
   "id": "82ca026b",
   "metadata": {},
   "source": [
    "### 7. From the order_reviews table, find the total number of distinct review score values."
   ]
  },
  {
   "cell_type": "code",
   "execution_count": null,
   "id": "d31b2313",
   "metadata": {},
   "outputs": [],
   "source": [
    "select review_score from order_reviews\n",
    "group by review_score;"
   ]
  },
  {
   "cell_type": "code",
   "execution_count": null,
   "id": "66601267",
   "metadata": {},
   "outputs": [],
   "source": [
    "output:\n",
    "    4\n",
    "5\n",
    "1\n",
    "3\n",
    "2"
   ]
  },
  {
   "cell_type": "markdown",
   "id": "3527d72a",
   "metadata": {},
   "source": [
    "### 8. In the order_reviews table, create a new column with a description that corresponds to each number category for each review score from 1 - 5, then find the review score and category occurring most frequently in the table.\n"
   ]
  },
  {
   "cell_type": "code",
   "execution_count": null,
   "id": "af57ee8c",
   "metadata": {},
   "outputs": [],
   "source": [
    "alter table order_reviews add review_category varchar(20);\n",
    "update order_reviews set review_category = 'poor' where review_score = 1;\n",
    "update order_reviews set review_category = 'bad' where review_score = 2;\n",
    "update order_reviews set review_category = 'OK' where review_score = 3;\n",
    "update order_reviews set review_category = 'nice' where review_score = 4;\n",
    "update order_reviews set review_category = 'perfect' where review_score = 5;\n",
    "\n",
    "select review_score, review_category, count(*) from order_reviews\n",
    "group by review_score order by count(*) desc limit 1;"
   ]
  },
  {
   "cell_type": "code",
   "execution_count": null,
   "id": "93fda6ba",
   "metadata": {},
   "outputs": [],
   "source": [
    "output:\n",
    "    5\tperfect\t57420"
   ]
  },
  {
   "cell_type": "markdown",
   "id": "f7b5853f",
   "metadata": {},
   "source": [
    "### 9. From the order_reviews table, find the review value occurring most frequently and how many times it occurs."
   ]
  },
  {
   "cell_type": "code",
   "execution_count": null,
   "id": "beec87ac",
   "metadata": {},
   "outputs": [],
   "source": [
    "select review_score, review_category, count(*) from order_reviews\n",
    "group by review_score order by count(*) desc limit 1;"
   ]
  },
  {
   "cell_type": "code",
   "execution_count": null,
   "id": "1d828489",
   "metadata": {},
   "outputs": [],
   "source": [
    "output:\n",
    "    5\tperfect\t57420"
   ]
  }
 ],
 "metadata": {
  "kernelspec": {
   "display_name": "Python 3 (ipykernel)",
   "language": "python",
   "name": "python3"
  },
  "language_info": {
   "codemirror_mode": {
    "name": "ipython",
    "version": 3
   },
   "file_extension": ".py",
   "mimetype": "text/x-python",
   "name": "python",
   "nbconvert_exporter": "python",
   "pygments_lexer": "ipython3",
   "version": "3.9.12"
  }
 },
 "nbformat": 4,
 "nbformat_minor": 5
}
