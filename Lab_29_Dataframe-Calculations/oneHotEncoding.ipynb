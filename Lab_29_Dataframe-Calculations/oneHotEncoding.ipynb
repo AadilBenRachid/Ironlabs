{
 "cells": [
  {
   "cell_type": "code",
   "execution_count": 2,
   "metadata": {},
   "outputs": [],
   "source": [
    "import pandas as pd\n"
   ]
  },
  {
   "cell_type": "code",
   "execution_count": 3,
   "metadata": {},
   "outputs": [],
   "source": [
    "l=['High','Medium','Low','Low','High']"
   ]
  },
  {
   "cell_type": "code",
   "execution_count": 4,
   "metadata": {},
   "outputs": [],
   "source": [
    "df=pd.DataFrame(l, columns=[\"Risks\"])"
   ]
  },
  {
   "cell_type": "code",
   "execution_count": 5,
   "metadata": {},
   "outputs": [
    {
     "data": {
      "text/html": [
       "<div>\n",
       "<style scoped>\n",
       "    .dataframe tbody tr th:only-of-type {\n",
       "        vertical-align: middle;\n",
       "    }\n",
       "\n",
       "    .dataframe tbody tr th {\n",
       "        vertical-align: top;\n",
       "    }\n",
       "\n",
       "    .dataframe thead th {\n",
       "        text-align: right;\n",
       "    }\n",
       "</style>\n",
       "<table border=\"1\" class=\"dataframe\">\n",
       "  <thead>\n",
       "    <tr style=\"text-align: right;\">\n",
       "      <th></th>\n",
       "      <th>Risks</th>\n",
       "    </tr>\n",
       "  </thead>\n",
       "  <tbody>\n",
       "    <tr>\n",
       "      <th>0</th>\n",
       "      <td>High</td>\n",
       "    </tr>\n",
       "    <tr>\n",
       "      <th>1</th>\n",
       "      <td>Medium</td>\n",
       "    </tr>\n",
       "    <tr>\n",
       "      <th>2</th>\n",
       "      <td>Low</td>\n",
       "    </tr>\n",
       "    <tr>\n",
       "      <th>3</th>\n",
       "      <td>Low</td>\n",
       "    </tr>\n",
       "    <tr>\n",
       "      <th>4</th>\n",
       "      <td>High</td>\n",
       "    </tr>\n",
       "  </tbody>\n",
       "</table>\n",
       "</div>"
      ],
      "text/plain": [
       "    Risks\n",
       "0    High\n",
       "1  Medium\n",
       "2     Low\n",
       "3     Low\n",
       "4    High"
      ]
     },
     "execution_count": 5,
     "metadata": {},
     "output_type": "execute_result"
    }
   ],
   "source": [
    "df"
   ]
  },
  {
   "cell_type": "code",
   "execution_count": 6,
   "metadata": {},
   "outputs": [],
   "source": [
    "x=pd.get_dummies(df, prefix_sep=\"#\")"
   ]
  },
  {
   "cell_type": "code",
   "execution_count": 7,
   "metadata": {},
   "outputs": [
    {
     "data": {
      "text/html": [
       "<div>\n",
       "<style scoped>\n",
       "    .dataframe tbody tr th:only-of-type {\n",
       "        vertical-align: middle;\n",
       "    }\n",
       "\n",
       "    .dataframe tbody tr th {\n",
       "        vertical-align: top;\n",
       "    }\n",
       "\n",
       "    .dataframe thead th {\n",
       "        text-align: right;\n",
       "    }\n",
       "</style>\n",
       "<table border=\"1\" class=\"dataframe\">\n",
       "  <thead>\n",
       "    <tr style=\"text-align: right;\">\n",
       "      <th></th>\n",
       "      <th>Risks#High</th>\n",
       "      <th>Risks#Low</th>\n",
       "      <th>Risks#Medium</th>\n",
       "    </tr>\n",
       "  </thead>\n",
       "  <tbody>\n",
       "    <tr>\n",
       "      <th>0</th>\n",
       "      <td>1</td>\n",
       "      <td>0</td>\n",
       "      <td>0</td>\n",
       "    </tr>\n",
       "    <tr>\n",
       "      <th>1</th>\n",
       "      <td>0</td>\n",
       "      <td>0</td>\n",
       "      <td>1</td>\n",
       "    </tr>\n",
       "    <tr>\n",
       "      <th>2</th>\n",
       "      <td>0</td>\n",
       "      <td>1</td>\n",
       "      <td>0</td>\n",
       "    </tr>\n",
       "    <tr>\n",
       "      <th>3</th>\n",
       "      <td>0</td>\n",
       "      <td>1</td>\n",
       "      <td>0</td>\n",
       "    </tr>\n",
       "    <tr>\n",
       "      <th>4</th>\n",
       "      <td>1</td>\n",
       "      <td>0</td>\n",
       "      <td>0</td>\n",
       "    </tr>\n",
       "  </tbody>\n",
       "</table>\n",
       "</div>"
      ],
      "text/plain": [
       "   Risks#High  Risks#Low  Risks#Medium\n",
       "0           1          0             0\n",
       "1           0          0             1\n",
       "2           0          1             0\n",
       "3           0          1             0\n",
       "4           1          0             0"
      ]
     },
     "execution_count": 7,
     "metadata": {},
     "output_type": "execute_result"
    }
   ],
   "source": [
    "x"
   ]
  },
  {
   "cell_type": "markdown",
   "metadata": {},
   "source": []
  },
  {
   "cell_type": "code",
   "execution_count": 11,
   "metadata": {},
   "outputs": [
    {
     "data": {
      "text/html": [
       "<div>\n",
       "<style scoped>\n",
       "    .dataframe tbody tr th:only-of-type {\n",
       "        vertical-align: middle;\n",
       "    }\n",
       "\n",
       "    .dataframe tbody tr th {\n",
       "        vertical-align: top;\n",
       "    }\n",
       "\n",
       "    .dataframe thead th {\n",
       "        text-align: right;\n",
       "    }\n",
       "</style>\n",
       "<table border=\"1\" class=\"dataframe\">\n",
       "  <thead>\n",
       "    <tr style=\"text-align: right;\">\n",
       "      <th></th>\n",
       "      <th>Risks#High</th>\n",
       "      <th>Risks#Low</th>\n",
       "      <th>Risks#Medium</th>\n",
       "      <th>Risks</th>\n",
       "    </tr>\n",
       "  </thead>\n",
       "  <tbody>\n",
       "    <tr>\n",
       "      <th>0</th>\n",
       "      <td>1</td>\n",
       "      <td>0</td>\n",
       "      <td>0</td>\n",
       "      <td>High</td>\n",
       "    </tr>\n",
       "    <tr>\n",
       "      <th>1</th>\n",
       "      <td>0</td>\n",
       "      <td>0</td>\n",
       "      <td>1</td>\n",
       "      <td>Medium</td>\n",
       "    </tr>\n",
       "    <tr>\n",
       "      <th>2</th>\n",
       "      <td>0</td>\n",
       "      <td>1</td>\n",
       "      <td>0</td>\n",
       "      <td>Low</td>\n",
       "    </tr>\n",
       "    <tr>\n",
       "      <th>3</th>\n",
       "      <td>0</td>\n",
       "      <td>1</td>\n",
       "      <td>0</td>\n",
       "      <td>Low</td>\n",
       "    </tr>\n",
       "    <tr>\n",
       "      <th>4</th>\n",
       "      <td>1</td>\n",
       "      <td>0</td>\n",
       "      <td>0</td>\n",
       "      <td>High</td>\n",
       "    </tr>\n",
       "  </tbody>\n",
       "</table>\n",
       "</div>"
      ],
      "text/plain": [
       "   Risks#High  Risks#Low  Risks#Medium   Risks\n",
       "0           1          0             0    High\n",
       "1           0          0             1  Medium\n",
       "2           0          1             0     Low\n",
       "3           0          1             0     Low\n",
       "4           1          0             0    High"
      ]
     },
     "execution_count": 11,
     "metadata": {},
     "output_type": "execute_result"
    }
   ],
   "source": [
    "x[\"Risks\"]=df[\"Risks\"]\n",
    "x"
   ]
  },
  {
   "cell_type": "code",
   "execution_count": 12,
   "metadata": {},
   "outputs": [
    {
     "data": {
      "text/html": [
       "<div>\n",
       "<style scoped>\n",
       "    .dataframe tbody tr th:only-of-type {\n",
       "        vertical-align: middle;\n",
       "    }\n",
       "\n",
       "    .dataframe tbody tr th {\n",
       "        vertical-align: top;\n",
       "    }\n",
       "\n",
       "    .dataframe thead th {\n",
       "        text-align: right;\n",
       "    }\n",
       "</style>\n",
       "<table border=\"1\" class=\"dataframe\">\n",
       "  <thead>\n",
       "    <tr style=\"text-align: right;\">\n",
       "      <th></th>\n",
       "      <th>Risks</th>\n",
       "      <th>Risks#Low</th>\n",
       "      <th>Risks#Medium</th>\n",
       "      <th>Risks#High</th>\n",
       "    </tr>\n",
       "  </thead>\n",
       "  <tbody>\n",
       "    <tr>\n",
       "      <th>0</th>\n",
       "      <td>High</td>\n",
       "      <td>0</td>\n",
       "      <td>0</td>\n",
       "      <td>1</td>\n",
       "    </tr>\n",
       "    <tr>\n",
       "      <th>1</th>\n",
       "      <td>Medium</td>\n",
       "      <td>0</td>\n",
       "      <td>1</td>\n",
       "      <td>0</td>\n",
       "    </tr>\n",
       "    <tr>\n",
       "      <th>2</th>\n",
       "      <td>Low</td>\n",
       "      <td>1</td>\n",
       "      <td>0</td>\n",
       "      <td>0</td>\n",
       "    </tr>\n",
       "    <tr>\n",
       "      <th>3</th>\n",
       "      <td>Low</td>\n",
       "      <td>1</td>\n",
       "      <td>0</td>\n",
       "      <td>0</td>\n",
       "    </tr>\n",
       "    <tr>\n",
       "      <th>4</th>\n",
       "      <td>High</td>\n",
       "      <td>0</td>\n",
       "      <td>0</td>\n",
       "      <td>1</td>\n",
       "    </tr>\n",
       "  </tbody>\n",
       "</table>\n",
       "</div>"
      ],
      "text/plain": [
       "    Risks  Risks#Low  Risks#Medium  Risks#High\n",
       "0    High          0             0           1\n",
       "1  Medium          0             1           0\n",
       "2     Low          1             0           0\n",
       "3     Low          1             0           0\n",
       "4    High          0             0           1"
      ]
     },
     "execution_count": 12,
     "metadata": {},
     "output_type": "execute_result"
    }
   ],
   "source": [
    "x=x[['Risks','Risks#Low','Risks#Medium','Risks#High']]\n",
    "x"
   ]
  },
  {
   "cell_type": "code",
   "execution_count": 14,
   "metadata": {},
   "outputs": [
    {
     "name": "stdout",
     "output_type": "stream",
     "text": [
      "Collecting category_encodersNote: you may need to restart the kernel to use updated packages.\n",
      "\n",
      "  Downloading category_encoders-2.5.1.post0-py2.py3-none-any.whl (72 kB)\n",
      "     ---------------------------------------- 72.4/72.4 kB 3.9 MB/s eta 0:00:00\n",
      "Collecting scikit-learn>=0.20.0\n",
      "  Downloading scikit-learn-1.1.3.tar.gz (7.0 MB)\n",
      "     ---------------------------------------- 7.0/7.0 MB 13.1 MB/s eta 0:00:00\n",
      "  Installing build dependencies: started\n",
      "  Installing build dependencies: still running...\n",
      "  Installing build dependencies: finished with status 'error'\n"
     ]
    },
    {
     "name": "stderr",
     "output_type": "stream",
     "text": [
      "  error: subprocess-exited-with-error\n",
      "  \n",
      "  × pip subprocess to install build dependencies did not run successfully.\n",
      "  │ exit code: 1\n",
      "  ╰─> [85 lines of output]\n",
      "      Ignoring numpy: markers 'python_version == \"3.10\" and platform_system == \"Windows\" and platform_python_implementation != \"PyPy\"' don't match your environment\n",
      "      Collecting setuptools<60.0\n",
      "        Downloading setuptools-59.8.0-py3-none-any.whl (952 kB)\n",
      "           ------------------------------------- 952.8/952.8 kB 12.1 MB/s eta 0:00:00\n",
      "      Collecting wheel\n",
      "        Downloading wheel-0.37.1-py2.py3-none-any.whl (35 kB)\n",
      "      Collecting Cython>=0.28.5\n",
      "        Downloading Cython-0.29.32-py2.py3-none-any.whl (986 kB)\n",
      "           ------------------------------------- 986.3/986.3 kB 12.5 MB/s eta 0:00:00\n",
      "      Collecting oldest-supported-numpy\n",
      "        Downloading oldest_supported_numpy-2022.8.16-py3-none-any.whl (3.9 kB)\n",
      "      Collecting scipy>=1.3.2\n",
      "        Downloading scipy-1.9.3.tar.gz (42.1 MB)\n",
      "           --------------------------------------- 42.1/42.1 MB 10.4 MB/s eta 0:00:00\n",
      "        Installing build dependencies: started\n",
      "        Installing build dependencies: finished with status 'done'\n",
      "        Getting requirements to build wheel: started\n",
      "        Getting requirements to build wheel: finished with status 'error'\n",
      "        error: subprocess-exited-with-error\n",
      "      \n",
      "        Ã— Getting requirements to build wheel did not run successfully.\n",
      "        â”‚ exit code: 1\n",
      "        â•°â”€> [49 lines of output]\n",
      "            + meson setup --native-file=C:\\Users\\ABR\\AppData\\Local\\Temp\\pip-install-xa6ocsy8\\scipy_292935e4caaf452abc7517dac00a890f\\.mesonpy-native-file.ini -Ddebug=false -Doptimization=2 --prefix=c:\\Users\\ABR\\AppData\\Local\\Programs\\Python\\Python38-32 C:\\Users\\ABR\\AppData\\Local\\Temp\\pip-install-xa6ocsy8\\scipy_292935e4caaf452abc7517dac00a890f C:\\Users\\ABR\\AppData\\Local\\Temp\\pip-install-xa6ocsy8\\scipy_292935e4caaf452abc7517dac00a890f\\.mesonpy-ifalw2l_\\build\n",
      "            The Meson build system\n",
      "            Version: 0.63.3\n",
      "            Source dir: C:\\Users\\ABR\\AppData\\Local\\Temp\\pip-install-xa6ocsy8\\scipy_292935e4caaf452abc7517dac00a890f\n",
      "            Build dir: C:\\Users\\ABR\\AppData\\Local\\Temp\\pip-install-xa6ocsy8\\scipy_292935e4caaf452abc7517dac00a890f\\.mesonpy-ifalw2l_\\build\n",
      "            Build type: native build\n",
      "            Project name: SciPy\n",
      "            Project version: 1.9.3\n",
      "            WARNING: Failed to activate VS environment: Could not find C:\\Program Files (x86)\\Microsoft Visual Studio\\Installer\\vswhere.exe\n",
      "      \n",
      "            ..\\..\\meson.build:1:0: ERROR: Unknown compiler(s): [['icl'], ['cl'], ['cc'], ['gcc'], ['clang'], ['clang-cl'], ['pgcc']]\n",
      "            The following exception(s) were encountered:\n",
      "            Running `icl \"\"` gave \"[WinError 2] Le fichier spÃƒÂ©cifiÃƒÂ© est introuvable\"\n",
      "            Running `cl /?` gave \"[WinError 2] Le fichier spÃƒÂ©cifiÃƒÂ© est introuvable\"\n",
      "            Running `cc --version` gave \"[WinError 2] Le fichier spÃƒÂ©cifiÃƒÂ© est introuvable\"\n",
      "            Running `gcc --version` gave \"[WinError 2] Le fichier spÃƒÂ©cifiÃƒÂ© est introuvable\"\n",
      "            Running `clang --version` gave \"[WinError 2] Le fichier spÃƒÂ©cifiÃƒÂ© est introuvable\"\n",
      "            Running `clang-cl /?` gave \"[WinError 2] Le fichier spÃƒÂ©cifiÃƒÂ© est introuvable\"\n",
      "            Running `pgcc --version` gave \"[WinError 2] Le fichier spÃƒÂ©cifiÃƒÂ© est introuvable\"\n",
      "      \n",
      "            A full log can be found at C:\\Users\\ABR\\AppData\\Local\\Temp\\pip-install-xa6ocsy8\\scipy_292935e4caaf452abc7517dac00a890f\\.mesonpy-ifalw2l_\\build\\meson-logs\\meson-log.txt\n",
      "            Traceback (most recent call last):\n",
      "              File \"C:\\Users\\ABR\\AppData\\Local\\Programs\\Python\\Python38-32\\Lib\\site-packages\\pip\\_vendor\\pep517\\in_process\\_in_process.py\", line 363, in <module>\n",
      "                main()\n",
      "              File \"C:\\Users\\ABR\\AppData\\Local\\Programs\\Python\\Python38-32\\Lib\\site-packages\\pip\\_vendor\\pep517\\in_process\\_in_process.py\", line 345, in main\n",
      "                json_out['return_val'] = hook(**hook_input['kwargs'])\n",
      "              File \"C:\\Users\\ABR\\AppData\\Local\\Programs\\Python\\Python38-32\\Lib\\site-packages\\pip\\_vendor\\pep517\\in_process\\_in_process.py\", line 130, in get_requires_for_build_wheel\n",
      "                return hook(config_settings)\n",
      "              File \"C:\\Users\\ABR\\AppData\\Local\\Temp\\pip-build-env-svghcu8v\\overlay\\Lib\\site-packages\\mesonpy\\__init__.py\", line 969, in get_requires_for_build_wheel\n",
      "                with _project(config_settings) as project:\n",
      "              File \"c:\\Users\\ABR\\AppData\\Local\\Programs\\Python\\Python38-32\\lib\\contextlib.py\", line 113, in __enter__\n",
      "                return next(self.gen)\n",
      "              File \"C:\\Users\\ABR\\AppData\\Local\\Temp\\pip-build-env-svghcu8v\\overlay\\Lib\\site-packages\\mesonpy\\__init__.py\", line 948, in _project\n",
      "                with Project.with_temp_working_dir(\n",
      "              File \"c:\\Users\\ABR\\AppData\\Local\\Programs\\Python\\Python38-32\\lib\\contextlib.py\", line 113, in __enter__\n",
      "                return next(self.gen)\n",
      "              File \"C:\\Users\\ABR\\AppData\\Local\\Temp\\pip-build-env-svghcu8v\\overlay\\Lib\\site-packages\\mesonpy\\__init__.py\", line 777, in with_temp_working_dir\n",
      "                yield cls(source_dir, tmpdir, build_dir)\n",
      "              File \"C:\\Users\\ABR\\AppData\\Local\\Temp\\pip-build-env-svghcu8v\\overlay\\Lib\\site-packages\\mesonpy\\__init__.py\", line 682, in __init__\n",
      "                self._configure(reconfigure=bool(build_dir) and not native_file_mismatch)\n",
      "              File \"C:\\Users\\ABR\\AppData\\Local\\Temp\\pip-build-env-svghcu8v\\overlay\\Lib\\site-packages\\mesonpy\\__init__.py\", line 713, in _configure\n",
      "                self._meson(\n",
      "              File \"C:\\Users\\ABR\\AppData\\Local\\Temp\\pip-build-env-svghcu8v\\overlay\\Lib\\site-packages\\mesonpy\\__init__.py\", line 696, in _meson\n",
      "                return self._proc('meson', *args)\n",
      "              File \"C:\\Users\\ABR\\AppData\\Local\\Temp\\pip-build-env-svghcu8v\\overlay\\Lib\\site-packages\\mesonpy\\__init__.py\", line 691, in _proc\n",
      "                subprocess.check_call(list(args))\n",
      "              File \"c:\\Users\\ABR\\AppData\\Local\\Programs\\Python\\Python38-32\\lib\\subprocess.py\", line 364, in check_call\n",
      "                raise CalledProcessError(retcode, cmd)\n",
      "            subprocess.CalledProcessError: Command '['meson', 'setup', '--native-file=C:\\\\Users\\\\ABR\\\\AppData\\\\Local\\\\Temp\\\\pip-install-xa6ocsy8\\\\scipy_292935e4caaf452abc7517dac00a890f\\\\.mesonpy-native-file.ini', '-Ddebug=false', '-Doptimization=2', '--prefix=c:\\\\Users\\\\ABR\\\\AppData\\\\Local\\\\Programs\\\\Python\\\\Python38-32', 'C:\\\\Users\\\\ABR\\\\AppData\\\\Local\\\\Temp\\\\pip-install-xa6ocsy8\\\\scipy_292935e4caaf452abc7517dac00a890f', 'C:\\\\Users\\\\ABR\\\\AppData\\\\Local\\\\Temp\\\\pip-install-xa6ocsy8\\\\scipy_292935e4caaf452abc7517dac00a890f\\\\.mesonpy-ifalw2l_\\\\build']' returned non-zero exit status 1.\n",
      "            [end of output]\n",
      "      \n",
      "        note: This error originates from a subprocess, and is likely not a problem with pip.\n",
      "      error: subprocess-exited-with-error\n",
      "      \n",
      "      Ã— Getting requirements to build wheel did not run successfully.\n",
      "      â”‚ exit code: 1\n",
      "      â•°â”€> See above for output.\n",
      "      \n",
      "      note: This error originates from a subprocess, and is likely not a problem with pip.\n",
      "      \n",
      "      [notice] A new release of pip available: 22.2.2 -> 22.3\n",
      "      [notice] To update, run: python.exe -m pip install --upgrade pip\n",
      "      [end of output]\n",
      "  \n",
      "  note: This error originates from a subprocess, and is likely not a problem with pip.\n",
      "error: subprocess-exited-with-error\n",
      "\n",
      "× pip subprocess to install build dependencies did not run successfully.\n",
      "│ exit code: 1\n",
      "╰─> See above for output.\n",
      "\n",
      "note: This error originates from a subprocess, and is likely not a problem with pip.\n",
      "\n",
      "[notice] A new release of pip available: 22.2.2 -> 22.3\n",
      "[notice] To update, run: python.exe -m pip install --upgrade pip\n"
     ]
    }
   ],
   "source": [
    "pip install category_encoders"
   ]
  },
  {
   "cell_type": "code",
   "execution_count": 16,
   "metadata": {},
   "outputs": [
    {
     "ename": "ModuleNotFoundError",
     "evalue": "No module named 'sklearn'",
     "output_type": "error",
     "traceback": [
      "\u001b[1;31m---------------------------------------------------------------------------\u001b[0m",
      "\u001b[1;31mModuleNotFoundError\u001b[0m                       Traceback (most recent call last)",
      "Cell \u001b[1;32mIn [16], line 1\u001b[0m\n\u001b[1;32m----> 1\u001b[0m \u001b[39mfrom\u001b[39;00m \u001b[39msklearn\u001b[39;00m\u001b[39m.\u001b[39;00m\u001b[39mprocessing\u001b[39;00m \u001b[39mimport\u001b[39;00m OneHotEncoder\n",
      "\u001b[1;31mModuleNotFoundError\u001b[0m: No module named 'sklearn'"
     ]
    }
   ],
   "source": [
    "from sklearn.processing import OneHotEncoder"
   ]
  },
  {
   "cell_type": "code",
   "execution_count": null,
   "metadata": {},
   "outputs": [],
   "source": []
  }
 ],
 "metadata": {
  "kernelspec": {
   "display_name": "Python 3.8.0 32-bit",
   "language": "python",
   "name": "python3"
  },
  "language_info": {
   "codemirror_mode": {
    "name": "ipython",
    "version": 3
   },
   "file_extension": ".py",
   "mimetype": "text/x-python",
   "name": "python",
   "nbconvert_exporter": "python",
   "pygments_lexer": "ipython3",
   "version": "3.8.0"
  },
  "orig_nbformat": 4,
  "vscode": {
   "interpreter": {
    "hash": "15533d8ee8d0b0380e64bfe6d2f4917e95282a1f0e5be33958393ef6ee7fe294"
   }
  }
 },
 "nbformat": 4,
 "nbformat_minor": 2
}
