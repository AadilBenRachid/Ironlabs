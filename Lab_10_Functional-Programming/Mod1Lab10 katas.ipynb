{
 "cells": [
  {
   "cell_type": "markdown",
   "id": "6dd7494c",
   "metadata": {},
   "source": [
    "### 1. [Counting Sheeps] (https://www.codewars.com/kata/54edbc7200b811e956000556)\n",
    "### Consider an array/list of sheep where some sheep may be missing from their place. We need a function that ### counts the number of sheep present in the array (true means present).\n",
    "\n",
    "\n",
    "The correct answer would be 17  \n"
   ]
  },
  {
   "cell_type": "code",
   "execution_count": null,
   "id": "d20e0b9d",
   "metadata": {},
   "outputs": [],
   "source": [
    "def count_sheeps(array):\n",
    "    sheep=0\n",
    "    for i in array :\n",
    "        \n",
    "        if i == True :\n",
    "            sheep= sheep+1\n",
    "    return sheep\n",
    "array1 = [True,  True,  True,  False,\n",
    "          True,  True,  True,  True ,\n",
    "          True,  False, True,  False,\n",
    "          True,  False, False, True ,\n",
    "          True,  True,  True,  True ,\n",
    "          False, False, True,  True ];\n",
    "        \n",
    "count_sheeps(array1)"
   ]
  },
  {
   "cell_type": "code",
   "execution_count": 1,
   "id": "9b176b94",
   "metadata": {},
   "outputs": [],
   "source": [
    "def count_sheeps(list_sheep):\n",
    "    count = 0\n",
    "    sheeps = 0\n",
    "    for i in range(len(list_sheep)):\n",
    "        if list_sheep[i] == 'true':\n",
    "            count += 1\n",
    "            sheeps += 1\n",
    "        else:\n",
    "            count +=1\n",
    "    Missing = count - sheeps\n",
    "    return {f\"{sheeps} present in array & {Missing} missing\"}"
   ]
  },
  {
   "cell_type": "markdown",
   "id": "503ed594",
   "metadata": {},
   "source": [
    "### 2. Take an array and remove every second element from the array. Always keep the first element and start removing with the next element."
   ]
  },
  {
   "cell_type": "markdown",
   "id": "fa97fe52",
   "metadata": {},
   "source": [
    "Example: [\"Keep\", \"Remove\", \"Keep\", \"Remove\", \"Keep\", ...] --> [\"Keep\", \"Keep\", \"Keep\", ...]"
   ]
  },
  {
   "cell_type": "code",
   "execution_count": null,
   "id": "eabdaf42",
   "metadata": {},
   "outputs": [],
   "source": [
    "def remove_every_other(my_list):\n",
    "\n",
    "    return my_list[::2]"
   ]
  },
  {
   "cell_type": "code",
   "execution_count": null,
   "id": "01094e6e",
   "metadata": {},
   "outputs": [],
   "source": [
    "def remove_every_other(my_list):\n",
    "    return [i for e,i in enumerate(my_list) if e % 2 == 0]"
   ]
  },
  {
   "cell_type": "code",
   "execution_count": null,
   "id": "3d633ac3",
   "metadata": {},
   "outputs": [],
   "source": [
    "def remove_every_other(x):\n",
    "    list1=[]\n",
    "    for i in range(len(x)):\n",
    "        if i %2 == 0:\n",
    "            list1.append(x[i])\n",
    "    return list1"
   ]
  },
  {
   "cell_type": "code",
   "execution_count": 2,
   "id": "7756a423",
   "metadata": {},
   "outputs": [],
   "source": [
    "def Remove_function(array):\n",
    "    new_array = []\n",
    "    for i in range(len(array)):\n",
    "        if i%2 == 0:\n",
    "            new_array.append(array[i])\n",
    "    return new_array"
   ]
  },
  {
   "cell_type": "markdown",
   "id": "7351b5d1",
   "metadata": {},
   "source": [
    "### 3. Convert number to reversed array of digits"
   ]
  },
  {
   "cell_type": "markdown",
   "id": "e055de57",
   "metadata": {},
   "source": [
    "### Given a random non-negative number, you have to return the digits of this number within an array in reverse order."
   ]
  },
  {
   "cell_type": "markdown",
   "id": "983391a6",
   "metadata": {},
   "source": [
    "Example:348597 => [7,9,5,8,4,3]\n",
    "0 => [0]"
   ]
  },
  {
   "cell_type": "code",
   "execution_count": 5,
   "id": "9b82db22",
   "metadata": {},
   "outputs": [],
   "source": [
    "\n",
    "def num_array(num):\n",
    "    num_str = str(num)[::-1]\n",
    "    array = []\n",
    "    for i in num_str:\n",
    "        array.append(int(i))\n",
    "    return array"
   ]
  },
  {
   "cell_type": "code",
   "execution_count": 6,
   "id": "513d0e8a",
   "metadata": {},
   "outputs": [
    {
     "data": {
      "text/plain": [
       "[0, 9, 8, 7, 6, 5, 4, 3, 2, 1]"
      ]
     },
     "execution_count": 6,
     "metadata": {},
     "output_type": "execute_result"
    }
   ],
   "source": [
    "num_new = 1234567890\n",
    "num_array(num_new)"
   ]
  },
  {
   "cell_type": "markdown",
   "id": "6e8e3518",
   "metadata": {},
   "source": [
    " ### 4. [Square every digit] (https://www.codewars.com/kata/546e2562b03326a88e000020)"
   ]
  },
  {
   "cell_type": "markdown",
   "id": "b9bba3aa",
   "metadata": {},
   "source": [
    "### Welcome. In this kata, you are asked to square every digit of a number and concatenate them.\n",
    "For example, if we run 9119 through the function, 811181 will come out, because 92 is 81 and 12 is 1.\n",
    "Note: The function accepts an integer and returns an integer"
   ]
  },
  {
   "cell_type": "code",
   "execution_count": null,
   "id": "f107883b",
   "metadata": {},
   "outputs": [],
   "source": [
    "def square_digits(num):\n",
    "    num = str(num)\n",
    "    result = ''\n",
    "    for i in num:\n",
    "        result += str(int(i)**2)\n",
    "    return int(result)\n",
    "\n",
    "# output: 818181    "
   ]
  },
  {
   "cell_type": "code",
   "execution_count": null,
   "id": "b3d192fc",
   "metadata": {},
   "outputs": [],
   "source": [
    "def square_digits(n):\n",
    "    n2=str(n)\n",
    "    l=list(n2)\n",
    "    li = []\n",
    "    for i in l:\n",
    "        li.append(str(int(i)**2))\n",
    "        s = ''.join(li)\n",
    "    return int(s)\n",
    "\n",
    "square_digits(999)\n",
    "\n",
    "# output: 818181"
   ]
  },
  {
   "cell_type": "code",
   "execution_count": null,
   "id": "11da96f1",
   "metadata": {},
   "outputs": [],
   "source": [
    "def digitize(n):\n",
    "    n2=str(n)\n",
    "    l=list(n2)\n",
    "    l.reverse()\n",
    "    li = []\n",
    "    for i in l:\n",
    "        li.append(int(i))\n",
    "    return li"
   ]
  },
  {
   "cell_type": "code",
   "execution_count": null,
   "id": "fb6a748a",
   "metadata": {},
   "outputs": [],
   "source": [
    "def digitize(n):\n",
    "    list=[]\n",
    "    \n",
    "    for i in str(n)[::-1]:\n",
    "        list.append(int(i))\n",
    "        \n",
    "    return list\n",
    "\n",
    "print(digitize(987654321))"
   ]
  },
  {
   "cell_type": "markdown",
   "id": "2554748b",
   "metadata": {},
   "source": [
    "#### 5. Counting Total Occurence Of Specific Digits"
   ]
  },
  {
   "cell_type": "markdown",
   "id": "b2c9bc5e",
   "metadata": {},
   "source": [
    "### We need a method in the List Class that may count specific digits from a given list of integers. This marked digits will be given in a second list. The method .count_spec_digits()/.countSpecDigits() will accept two arguments, a list of an uncertain amount of integers integers_lists/integersLists (and of an uncertain amount of digits, too) and a second list, digits_list/digitsList that has the specific digits to count which length cannot be be longer than 10 (It's obvious, we've got ten digits). The method will output a list of tuples, each tuple having two elements, the first one will be a digit to count, and second one, its corresponding total frequency in all the integers of the first list. This list of tuples should be ordered with the same order that the digits have in digitsList"
   ]
  },
  {
   "cell_type": "code",
   "execution_count": 7,
   "id": "c30722c0",
   "metadata": {},
   "outputs": [],
   "source": [
    "#l = List()\n",
    "\n",
    "#integers_list =  [1, 1, 2 ,3 ,1 ,2 ,3 ,4]\n",
    "\n",
    "#digits_list = [1, 3]\n",
    "\n",
    "#l.count_spec_digits(integers_list, digits_list) == [(1, 3), (3, 2)]\n",
    "\n",
    "#integers_list = [-18, -31, 81, -19, 111, -888]\n",
    "\n",
    "#digits_list = [1, 8, 4]\n",
    "\n",
    "#l.count_spec_digits(integers_list, digits_list) == [(1, 7), (8, 5), (4, 0)]\n",
    "\n",
    "#integers_list = [-77, -65, 56, -79, 6666, 222]\n",
    "\n",
    "#digits_list = [1, 8, 4]\n",
    "\n",
    "#l.count_spec_digits(integers_list, digits_list) == [(1, 0), (8, 0), (4, 0)]-----"
   ]
  },
  {
   "cell_type": "code",
   "execution_count": 8,
   "id": "4ea9432a",
   "metadata": {},
   "outputs": [],
   "source": [
    "def int_digits(integers,digits):\n",
    "    #First, I create empty list from which at the end I will form a tuple pairs, and a list to store these tuples\n",
    "    digit_counts = []\n",
    "    results = []\n",
    "    \n",
    "    #Secondly, I convert integers list into a string\n",
    "    int_str =''.join([str(i) for i in integers])\n",
    "    \n",
    "    #Third, for every digit in digits I count how many times this digit apears in the string formed from integers list\n",
    "    #and I add it to the digit counted list \n",
    "    for j in digits:\n",
    "        digit_counts.append(int_str.count(str(j)))\n",
    "    \n",
    "    #In the last step I form a list of tuple pairs called results\n",
    "    for k in range(len(digits)):\n",
    "        results.append((digits[k],digit_counts[k]))\n",
    "    return results"
   ]
  },
  {
   "cell_type": "code",
   "execution_count": 9,
   "id": "d9d9fd32",
   "metadata": {},
   "outputs": [
    {
     "data": {
      "text/plain": [
       "[(1, 3), (3, 2)]"
      ]
     },
     "execution_count": 9,
     "metadata": {},
     "output_type": "execute_result"
    }
   ],
   "source": [
    "int_digits( [1, 1, 2 ,3 ,1 ,2 ,3 ,4] , [1, 3])"
   ]
  },
  {
   "cell_type": "code",
   "execution_count": 10,
   "id": "bf34cafa",
   "metadata": {},
   "outputs": [
    {
     "data": {
      "text/plain": [
       "[(1, 7), (8, 5), (4, 0)]"
      ]
     },
     "execution_count": 10,
     "metadata": {},
     "output_type": "execute_result"
    }
   ],
   "source": [
    "ints = [-18, -31, 81, -19, 111, -888]\n",
    "digits = [1, 8, 4]\n",
    "\n",
    "int_digits(ints,digits)"
   ]
  },
  {
   "cell_type": "code",
   "execution_count": 11,
   "id": "f418471f",
   "metadata": {},
   "outputs": [
    {
     "data": {
      "text/plain": [
       "[(1, 0), (8, 0), (4, 0)]"
      ]
     },
     "execution_count": 11,
     "metadata": {},
     "output_type": "execute_result"
    }
   ],
   "source": [
    "ints = [-77, -65, 56, -79, 6666, 222]\n",
    "digits = [1, 8, 4]\n",
    "\n",
    "int_digits(ints,digits)"
   ]
  },
  {
   "cell_type": "code",
   "execution_count": null,
   "id": "c4d5d762",
   "metadata": {},
   "outputs": [],
   "source": [
    "class List(object):\n",
    "    def count_spec_digits(integers_list, digits_list):\n",
    "        result = []\n",
    "        str_list = ''.join(str(i) for i in integers_list)\n",
    "        for digit in digits_list:\n",
    "            result.append((digit, str_list.count(str(digit))))\n",
    "        return result"
   ]
  }
 ],
 "metadata": {
  "kernelspec": {
   "display_name": "Python 3.8.0 32-bit",
   "language": "python",
   "name": "python3"
  },
  "language_info": {
   "codemirror_mode": {
    "name": "ipython",
    "version": 3
   },
   "file_extension": ".py",
   "mimetype": "text/x-python",
   "name": "python",
   "nbconvert_exporter": "python",
   "pygments_lexer": "ipython3",
   "version": "3.8.0"
  },
  "vscode": {
   "interpreter": {
    "hash": "15533d8ee8d0b0380e64bfe6d2f4917e95282a1f0e5be33958393ef6ee7fe294"
   }
  }
 },
 "nbformat": 4,
 "nbformat_minor": 5
}
