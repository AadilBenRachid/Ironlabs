{
 "cells": [
  {
   "cell_type": "markdown",
   "metadata": {},
   "source": [
    "\n",
    "### 1. Define a method/function that removes from a given array of integers all the values contained in a second array."
   ]
  },
  {
   "cell_type": "markdown",
   "metadata": {},
   "source": [
    "#l = List()\n",
    "\n",
    "#integer_list =  [1, 1, 2 ,3 ,1 ,2 ,3 ,4]\n",
    "#values_list = [1, 3]\n",
    "#l.remove_(integer_list, values_list) == [2, 2, 4]\n",
    "\n",
    "#integer_list = [1, 1, 2 ,3 ,1 ,2 ,3 ,4, 4, 3 ,5, 6, 7, 2, 8]\n",
    "#lst = [1, 3, 4, 2]\n",
    "#l.remove_(integer_list, values_list) == [5, 6 ,7 ,8]\n",
    "\n",
    "#integer_list = [8, 2, 7, 2, 3, 4, 6, 5, 4, 4, 1, 2 , 3]\n",
    "#lst = [2, 4, 3]\n",
    "#l.remove_(integer_list, values_list) == [8, 7, 6, 5, 1]"
   ]
  },
  {
   "cell_type": "code",
   "execution_count": 1,
   "metadata": {},
   "outputs": [],
   "source": [
    "#input\n",
    "l1=[1,2,3,4]\n",
    "l2=[1, 3]\n",
    "#output\n",
    "l3=[2,4]\n",
    "\n",
    "\n",
    "def remove_el (l1, l2):\n",
    "    ll=[]\n",
    "    for i in l1:\n",
    "        if i not in l2:\n",
    "            ll.append(i)\n",
    "    return ll\n"
   ]
  },
  {
   "cell_type": "code",
   "execution_count": 2,
   "metadata": {},
   "outputs": [],
   "source": [
    "def list_int(integer_list,values_list):\n",
    "    result = []\n",
    "    for i in integer_list:\n",
    "        if i  not in values_list:\n",
    "            result.append(i)\n",
    "        else:\n",
    "            continue\n",
    "    return result"
   ]
  },
  {
   "cell_type": "code",
   "execution_count": 3,
   "metadata": {},
   "outputs": [
    {
     "data": {
      "text/plain": [
       "[2, 2, 4]"
      ]
     },
     "execution_count": 3,
     "metadata": {},
     "output_type": "execute_result"
    }
   ],
   "source": [
    "integer_list = [1, 1, 2 ,3 ,1 ,2 ,3 ,4]\n",
    "values_list = [1, 3]\n",
    "list_int(integer_list,values_list)"
   ]
  },
  {
   "cell_type": "code",
   "execution_count": 4,
   "metadata": {},
   "outputs": [
    {
     "data": {
      "text/plain": [
       "[2, 2, 4]"
      ]
     },
     "execution_count": 4,
     "metadata": {},
     "output_type": "execute_result"
    }
   ],
   "source": [
    "integer_list = [1, 1, 2 ,3 ,1 ,2 ,3 ,4]\n",
    "values_list = [1, 3]\n",
    "list_int(integer_list,values_list)"
   ]
  },
  {
   "cell_type": "code",
   "execution_count": 5,
   "metadata": {},
   "outputs": [
    {
     "data": {
      "text/plain": [
       "[5, 6, 7, 8]"
      ]
     },
     "execution_count": 5,
     "metadata": {},
     "output_type": "execute_result"
    }
   ],
   "source": [
    "integer_list = [1, 1, 2 ,3 ,1 ,2 ,3 ,4, 4, 3 ,5, 6, 7, 2, 8]\n",
    "values_list = [1, 3, 4, 2]\n",
    "list_int(integer_list,values_list)"
   ]
  },
  {
   "cell_type": "code",
   "execution_count": 6,
   "metadata": {},
   "outputs": [
    {
     "data": {
      "text/plain": [
       "[8, 7, 6, 5, 1]"
      ]
     },
     "execution_count": 6,
     "metadata": {},
     "output_type": "execute_result"
    }
   ],
   "source": [
    "integer_list = [8, 2, 7, 2, 3, 4, 6, 5, 4, 4, 1, 2 , 3]\n",
    "values_list = [2, 4, 3]\n",
    "list_int(integer_list,values_list)"
   ]
  },
  {
   "cell_type": "markdown",
   "metadata": {},
   "source": [
    "### 2. Method For Counting Total Occurence Of Specific Digits\n",
    "We need a method in the List Class that may count specific digits from a given list of integers. This marked digits will be given in a second list. The method .count_spec_digits()/.countSpecDigits() will accept two arguments, a list of an uncertain amount of integers integers_lists/integersLists (and of an uncertain amount of digits, too) and a second list, digits_list/digitsList that has the specific digits to count which length cannot be be longer than 10 (It's obvious, we've got ten digits). The method will output a list of tuples, each tuple having two elements, the first one will be a digit to count, and second one, its corresponding total frequency in all the integers of the first list. This list of tuples should be ordered with the same order that the digits have in digitsList"
   ]
  },
  {
   "cell_type": "code",
   "execution_count": 8,
   "metadata": {},
   "outputs": [],
   "source": [
    "def int_digits(integers,digits):\n",
    "    digit_counts = []\n",
    "    results = []\n",
    "    \n",
    "    int_str =''.join([str(i) for i in integers])\n",
    "\n",
    "    for j in digits:\n",
    "        digit_counts.append(int_str.count(str(j)))\n",
    "    \n",
    "    for k in range(len(digits)):\n",
    "        results.append((digits[k],digit_counts[k]))\n",
    "    return results"
   ]
  },
  {
   "cell_type": "code",
   "execution_count": 9,
   "metadata": {},
   "outputs": [
    {
     "data": {
      "text/plain": [
       "[(1, 3), (3, 2)]"
      ]
     },
     "execution_count": 9,
     "metadata": {},
     "output_type": "execute_result"
    }
   ],
   "source": [
    "int_digits( [1, 1, 2 ,3 ,1 ,2 ,3 ,4] , [1, 3])"
   ]
  },
  {
   "cell_type": "code",
   "execution_count": 10,
   "metadata": {},
   "outputs": [
    {
     "data": {
      "text/plain": [
       "[(1, 7), (8, 5), (4, 0)]"
      ]
     },
     "execution_count": 10,
     "metadata": {},
     "output_type": "execute_result"
    }
   ],
   "source": [
    "ints = [-18, -31, 81, -19, 111, -888]\n",
    "digits = [1, 8, 4]\n",
    "\n",
    "int_digits(ints,digits)"
   ]
  },
  {
   "cell_type": "code",
   "execution_count": 11,
   "metadata": {},
   "outputs": [
    {
     "data": {
      "text/plain": [
       "[(1, 0), (8, 0), (4, 0)]"
      ]
     },
     "execution_count": 11,
     "metadata": {},
     "output_type": "execute_result"
    }
   ],
   "source": [
    "ints = [-77, -65, 56, -79, 6666, 222]\n",
    "digits = [1, 8, 4]\n",
    "\n",
    "int_digits(ints,digits)"
   ]
  },
  {
   "cell_type": "markdown",
   "metadata": {},
   "source": [
    "### 3. Count the number of occurrences of each character and return it as a list of tuples in order of appearance. For empty output return an empty list.\n",
    "Example : ordered_count(\"abracadabra\") == [('a', 5), ('b', 2), ('r', 2), ('c', 1), ('d', 1)]"
   ]
  },
  {
   "cell_type": "code",
   "execution_count": 12,
   "metadata": {},
   "outputs": [],
   "source": [
    "def ordered_count(num):\n",
    "    input_order = []\n",
    "    for i in num:\n",
    "        if i not in input_order:\n",
    "            input_order.append(i)\n",
    "    \n",
    "    count = {}\n",
    "    for i in input_order:\n",
    "        count[i]=num.count(i)\n",
    "    keys_count = list(count.keys())\n",
    "    \n",
    "    result = []\n",
    "    for key in keys_count:\n",
    "        result.append((key,count[key]))\n",
    "    return result"
   ]
  },
  {
   "cell_type": "code",
   "execution_count": 13,
   "metadata": {},
   "outputs": [
    {
     "data": {
      "text/plain": [
       "[('a', 5), ('b', 2), ('r', 2), ('c', 1), ('d', 1)]"
      ]
     },
     "execution_count": 13,
     "metadata": {},
     "output_type": "execute_result"
    }
   ],
   "source": [
    "ordered_count(\"abracadabra\")"
   ]
  },
  {
   "cell_type": "code",
   "execution_count": null,
   "metadata": {},
   "outputs": [],
   "source": []
  }
 ],
 "metadata": {
  "kernelspec": {
   "display_name": "Python 3.8.0 32-bit",
   "language": "python",
   "name": "python3"
  },
  "language_info": {
   "codemirror_mode": {
    "name": "ipython",
    "version": 3
   },
   "file_extension": ".py",
   "mimetype": "text/x-python",
   "name": "python",
   "nbconvert_exporter": "python",
   "pygments_lexer": "ipython3",
   "version": "3.8.0"
  },
  "orig_nbformat": 4,
  "vscode": {
   "interpreter": {
    "hash": "15533d8ee8d0b0380e64bfe6d2f4917e95282a1f0e5be33958393ef6ee7fe294"
   }
  }
 },
 "nbformat": 4,
 "nbformat_minor": 2
}
